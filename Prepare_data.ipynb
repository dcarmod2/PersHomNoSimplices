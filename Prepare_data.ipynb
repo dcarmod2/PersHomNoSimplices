{
 "cells": [
  {
   "cell_type": "code",
   "execution_count": 19,
   "metadata": {},
   "outputs": [],
   "source": [
    "import matplotlib\n",
    "import gudhi as gd\n",
    "import numpy as np\n",
    "import matplotlib.pyplot as plt\n",
    "import pywt\n",
    "import tensorflow as tf\n",
    "import pickle\n",
    "import random as random\n",
    "import re\n",
    "import os\n",
    "from PIL import Image\n",
    "import time"
   ]
  },
  {
   "cell_type": "code",
   "execution_count": 20,
   "metadata": {},
   "outputs": [
    {
     "name": "stdout",
     "output_type": "stream",
     "text": [
      "The tensorboard extension is already loaded. To reload it, use:\n",
      "  %reload_ext tensorboard\n"
     ]
    }
   ],
   "source": [
    "%load_ext tensorboard"
   ]
  },
  {
   "cell_type": "markdown",
   "metadata": {},
   "source": [
    "**Create data set with circles in random positions**"
   ]
  },
  {
   "cell_type": "code",
   "execution_count": 21,
   "metadata": {},
   "outputs": [],
   "source": [
    "#Number of points on circle is drawn from Unif([m-d,m+d])\n",
    "m = 20\n",
    "d = 5\n",
    "\n",
    "def circle(center,radius):\n",
    "    num_pts = random.randint(m-d, m+d)\n",
    "    print(num_pts)\n",
    "    #print(\"This circle has {} points\".format(num_pts))\n",
    "    thetas = np.random.random((num_pts,1))*(2*np.pi)\n",
    "    circ = np.vstack([radius*np.array([np.cos(theta),np.sin(theta)]) + center for theta in thetas])\n",
    "    return circ\n",
    "\n",
    "#truncate where it's zero, then round to next highest power of 2\n",
    "def get_trunc_ind(arr):\n",
    "    for i,_ in enumerate(arr):\n",
    "        if np.all(arr[i:] == np.zeros(len(arr[i:]))):\n",
    "            return int(2**(np.ceil(np.log(i)/np.log(2))))\n",
    "    return len(arr)\n",
    "\n",
    "def get_len_and_pos(ind,arr):\n",
    "    #assume ind > 0\n",
    "    n = np.log(len(arr))/np.log(2)\n",
    "    wavelength = 2**(n-int((np.log(ind)/np.log(2))))\n",
    "    pos = (ind-2**(int(np.log(ind)/np.log(2))))*wavelength\n",
    "    return int(wavelength),int(pos)\n",
    "\n",
    "def get_output(max_data,all_coeffs):\n",
    "    coeff,ind = max_data\n",
    "    if ind == 0:\n",
    "        return coeff/np.sqrt(len(all_coeffs)),len(all_coeffs),0\n",
    "    else:\n",
    "        wl, pos = get_len_and_pos(ind,all_coeffs)\n",
    "        return coeff/np.sqrt(wl),wl,pos\n",
    "    \n",
    "def convert_outputs(x):\n",
    "    if x == 0:\n",
    "        return 0\n",
    "    else:\n",
    "        return np.log(x)/np.log(2)\n",
    "    \n",
    "def pad_and_add(x,y):\n",
    "    if len(x) >= len(y):\n",
    "        y = np.pad(y,(0,len(x)-len(y)),'constant',constant_values=0)\n",
    "    else:\n",
    "        x = np.pad(x,(0,len(y)-len(x)),'constant',constant_values=0)\n",
    "    return x + y\n",
    "\n",
    "def plot_outputs(output1,output2,output3):\n",
    "    func = np.zeros(1)\n",
    "    out2 = np.round(output2)\n",
    "    out3 = np.round(output3)\n",
    "    for i,coeff in enumerate(output1[:-1]):\n",
    "        wl = 2**int(np.round(output2[i]))\n",
    "        \n",
    "        temppos = int(np.round(output3[i]))\n",
    "        if temppos == 0:\n",
    "            pos = 0\n",
    "        else:\n",
    "            pos = 2**temppos\n",
    "        \n",
    "        to_add = np.hstack([np.zeros(pos),coeff*np.ones(wl//2),(-1)*coeff*np.ones(wl//2)])\n",
    "        func = pad_and_add(func,to_add)\n",
    "    func += output1[-1]\n",
    "    return func\n",
    "    "
   ]
  },
  {
   "cell_type": "code",
   "execution_count": 22,
   "metadata": {},
   "outputs": [
    {
     "name": "stdout",
     "output_type": "stream",
     "text": [
      "17\n",
      "20\n",
      "23\n",
      "21\n",
      "18\n",
      "17\n",
      "21\n",
      "21\n",
      "17\n",
      "21\n",
      "21\n",
      "20\n",
      "21\n",
      "25\n",
      "21\n",
      "18\n",
      "22\n",
      "15\n",
      "22\n",
      "24\n",
      "23\n",
      "20\n",
      "25\n",
      "24\n",
      "24\n",
      "20\n",
      "21\n",
      "19\n",
      "20\n",
      "Generated 5 samples in 72.840856 seconds\n"
     ]
    }
   ],
   "source": [
    "#Take the N largest absolute values of coefficients. \n",
    "N = 20\n",
    "\n",
    "#Max number of circles. Each sample will have K circles, where K is drawn from Unif([0,max_num_circles])\n",
    "max_num_circles = 10\n",
    "\n",
    "#Number of samples to generate\n",
    "M = 5\n",
    "\n",
    "try:\n",
    "    with open('outputs_bigger.p','rb') as f:\n",
    "        outputs = pickle.load(f)\n",
    "    \n",
    "    with open('inputs_bigger.p','rb') as f:\n",
    "        inputs = pickle.load(f)\n",
    "    \n",
    "except Exception as e:\n",
    "    t0 = time.clock()\n",
    "    inputs = []\n",
    "    outputs = []\n",
    "    for i in range(0,M):\n",
    "        num_circles = random.randint(1, max_num_circles)\n",
    "        #print(\"Generating {} circles...\".format(num_circles))\n",
    "        centers = np.random.random(size=(num_circles,2))\n",
    "        radii = np.random.random(size=(num_circles,1))*0.5\n",
    "        circle_pts = np.vstack([circle(center,radius) for (center,radius) in zip(centers,radii)])\n",
    "        inputs.append(circle_pts)\n",
    "        rc = gd.RipsComplex(circle_pts)\n",
    "        st = rc.create_simplex_tree(max_dimension=2)\n",
    "        st.persistence()\n",
    "        temp = st.get_filtration()\n",
    "        filtrants = sorted(set({x for _,x in temp}))\n",
    "\n",
    "        betti_data = np.array([st.persistent_betti_numbers(start,end) for start,end in zip(filtrants[:-1],filtrants[1:])])\n",
    "        trunced_arr = betti_data[:get_trunc_ind(betti_data[:,1]),1]\n",
    "\n",
    "        coeffs = pywt.wavedec(trunced_arr,wavelet='db1',level=None)\n",
    "        all_coeffs = np.hstack(coeffs)\n",
    "        max_inds = np.argpartition(np.abs(all_coeffs),-N)[-N:]\n",
    "        sorted_max_data = [(x,y) for x,y in sorted(list(zip(all_coeffs[max_inds],max_inds)))]\n",
    "        output = np.array([get_output(x,all_coeffs) for x in sorted_max_data])\n",
    "        outputs.append(output)\n",
    "        if ((i+1)%100) == 0:\n",
    "            print(\"Generated {} samples in {} seconds\".format(i+1, time.clock() - t0))\n",
    "    print(\"Generated {} samples in {} seconds\".format(i+1, time.clock() - t0))"
   ]
  },
  {
   "cell_type": "code",
   "execution_count": 23,
   "metadata": {},
   "outputs": [],
   "source": [
    "with open('outputs_bigger.p','wb') as f:\n",
    "    pickle.dump(outputs,f)\n",
    "    \n",
    "with open('inputs_bigger.p','wb') as f:\n",
    "    pickle.dump(inputs,f)"
   ]
  },
  {
   "cell_type": "code",
   "execution_count": 10,
   "metadata": {},
   "outputs": [],
   "source": [
    "arr_inputs = np.array(inputs)"
   ]
  },
  {
   "cell_type": "code",
   "execution_count": 11,
   "metadata": {},
   "outputs": [],
   "source": [
    "outputs1 = np.array([x[:,0] for x in outputs])\n",
    "outputs2 = np.array([x[:,1] for x in outputs])\n",
    "outputs3 = np.array([x[:,2] for x in outputs])"
   ]
  },
  {
   "cell_type": "code",
   "execution_count": 12,
   "metadata": {},
   "outputs": [],
   "source": [
    "outputs2log = np.array([[convert_outputs(x) for x in arr] for arr in outputs2])\n",
    "outputs3log = np.array([[convert_outputs(x) for x in arr] for arr in outputs3])"
   ]
  },
  {
   "cell_type": "markdown",
   "metadata": {},
   "source": [
    "### Make images from inputs"
   ]
  },
  {
   "cell_type": "code",
   "execution_count": 245,
   "metadata": {},
   "outputs": [],
   "source": [
    "\n",
    "\n",
    "def conv_layer(Input,activation='relu',outname='conv'):\n",
    "    Conv1 = tf.keras.layers.Conv1D(64,kernel_size=3,strides=1,padding='same',input_shape=(300,2),activation=activation)(Input)\n",
    "    Pooling1 = tf.keras.layers.MaxPooling1D(pool_size=2,strides=2)(Conv1)\n",
    "    Conv2 = tf.keras.layers.Conv1D(64,kernel_size=3,strides=1,padding='same',activation=activation)(Pooling1)\n",
    "    Pooling2 = tf.keras.layers.MaxPooling1D(pool_size=2,strides=2)(Conv2)\n",
    "    Flat = tf.keras.layers.Flatten()(Pooling2)\n",
    "    Dense1 = tf.keras.layers.Dense(32,activation=activation)(Flat)\n",
    "    Out = tf.keras.layers.Dense(10,activation=activation,name=outname)(Dense1)\n",
    "    return Out\n",
    "    \n",
    "def res_block_coeff(Input,activation='linear',bias_reg = None,outname='coeff'):\n",
    "    Start = tf.keras.layers.Flatten()(Input)\n",
    "    Dense1 = tf.keras.layers.Dense(100, activation=activation)(Start)\n",
    "    #BN1 = tf.compat.v2.keras.layers.BatchNormalization()(Dense1)\n",
    "    Dropout1 = tf.keras.layers.Dropout(0.2)(Dense1)\n",
    "    Dense2 = tf.keras.layers.Dense(70,activation=activation)(Dropout1)\n",
    "    #BN2 = tf.compat.v2.keras.layers.BatchNormalization()(Dense2)\n",
    "    Dense3 = tf.keras.layers.Dense(40,activation=activation)(Dense2)\n",
    "    #BN3 = tf.compat.v2.keras.layers.BatchNormalization()(Dense3)\n",
    "    #Dense4 = tf.keras.layers.Dense(20,activation=activation)(BN3)\n",
    "    to_add = tf.keras.layers.Dense(40,activation=activation,kernel_initializer = tf.keras.initializers.zeros())(Start)\n",
    "    Add = tf.keras.layers.add([to_add,Dense3])\n",
    "    Out = tf.keras.layers.Dense(10,activation = activation,bias_regularizer = bias_reg,name=outname)(Add)\n",
    "    return Out\n",
    "\n",
    "def res_block_wl(Input,activation='relu',bias_reg = None,outname='Dense'):\n",
    "    Start = tf.keras.layers.Flatten()(Input)\n",
    "    Dense1 = tf.keras.layers.Dense(100, activation=activation,\n",
    "                                                 kernel_regularizer = tf.keras.regularizers.l2(0.01))(Start)\n",
    "    BN1 = tf.compat.v2.keras.layers.BatchNormalization()(Dense1)\n",
    "    Dropout1 = tf.keras.layers.Dropout(0.2)(BN1)\n",
    "    Dense2 = tf.keras.layers.Dense(70,activation=activation)(Dropout1)\n",
    "    #BN2 = tf.compat.v2.keras.layers.BatchNormalization()(Dense2)\n",
    "    Dense3 = tf.keras.layers.Dense(40,activation=activation)(Dense2)\n",
    "    #BN3 = tf.compat.v2.keras.layers.BatchNormalization()(Dense3)\n",
    "    #Dense4 = tf.keras.layers.Dense(20,activation=activation)(BN3)\n",
    "    #to_add = tf.keras.layers.Dense(40,activation=activation,kernel_initializer = tf.keras.initializers.Constant(1/300))(Start)\n",
    "    #Add = tf.keras.layers.add([to_add,Dense3])\n",
    "    Out = tf.keras.layers.Dense(10,activation = activation,bias_regularizer = bias_reg,name=outname)(Dense3)\n",
    "    return Out"
   ]
  },
  {
   "cell_type": "code",
   "execution_count": 246,
   "metadata": {},
   "outputs": [],
   "source": [
    "Input = tf.keras.layers.Input((300,2))\n",
    "\n",
    "Out1 = res_block_coeff(Input,activation='linear')\n",
    "Out2 = res_block_wl(Input,activation='relu',bias_reg = tf.keras.regularizers.l2(0.01),outname='wl')\n",
    "Out3 = res_block_wl(Input,activation='relu',bias_reg = tf.keras.regularizers.l2(0.01),outname='pos')\n",
    "\n",
    "model = tf.keras.Model(inputs = Input, outputs = [Out1,Out2,Out3])\n",
    "#tf.keras.utils.plot_model(model,to_file='model.png')\n",
    "model.compile(optimizer='adam',\n",
    "              loss='mean_squared_error',\n",
    "             )#metrics=['accuracy'])"
   ]
  },
  {
   "cell_type": "code",
   "execution_count": 247,
   "metadata": {},
   "outputs": [],
   "source": [
    "Input_conv = tf.keras.layers.Input((300,2))\n",
    "\n",
    "Out1_conv = conv_layer(Input_conv,activation='linear',outname='coeff')\n",
    "Out2_conv = conv_layer(Input_conv,activation='relu',outname='wl')\n",
    "Out3_conv = conv_layer(Input_conv,activation='relu',outname='pos')\n",
    "\n",
    "model_conv = tf.keras.Model(inputs = Input_conv, outputs = [Out1_conv,Out2_conv,Out3_conv])\n",
    "model_conv.compile(optimizer='adam',\n",
    "              loss='mean_squared_error',\n",
    "             )"
   ]
  },
  {
   "cell_type": "code",
   "execution_count": 248,
   "metadata": {},
   "outputs": [],
   "source": [
    "logdir=\"logs/fit/\"\n",
    "!rm -r ./logs/fit\n",
    "tensorboard_callback = tf.keras.callbacks.TensorBoard(log_dir=logdir)"
   ]
  },
  {
   "cell_type": "markdown",
   "metadata": {},
   "source": [
    "### Train the vanilla NN"
   ]
  },
  {
   "cell_type": "code",
   "execution_count": 249,
   "metadata": {},
   "outputs": [
    {
     "name": "stdout",
     "output_type": "stream",
     "text": [
      "Train on 2000 samples\n",
      "Epoch 1/100\n",
      "2000/2000 [==============================] - 2s 999us/sample - loss: 105.8891 - coeff_loss: 2.3636 - wl_loss: 72.0337 - pos_loss: 27.7387\n",
      "Epoch 2/100\n",
      "2000/2000 [==============================] - 0s 130us/sample - loss: 37.1859 - coeff_loss: 1.5789 - wl_loss: 19.5344 - pos_loss: 12.9837\n",
      "Epoch 3/100\n",
      "2000/2000 [==============================] - 0s 125us/sample - loss: 34.0532 - coeff_loss: 1.5631 - wl_loss: 17.2266 - pos_loss: 12.3087\n",
      "Epoch 4/100\n",
      "2000/2000 [==============================] - 0s 126us/sample - loss: 33.1739 - coeff_loss: 1.5165 - wl_loss: 16.8312 - pos_loss: 12.0742\n",
      "Epoch 5/100\n",
      "2000/2000 [==============================] - 0s 133us/sample - loss: 32.3333 - coeff_loss: 1.4819 - wl_loss: 16.4446 - pos_loss: 11.7443\n",
      "Epoch 6/100\n",
      "2000/2000 [==============================] - 0s 127us/sample - loss: 31.9101 - coeff_loss: 1.4965 - wl_loss: 16.2225 - pos_loss: 11.6645\n",
      "Epoch 7/100\n",
      "2000/2000 [==============================] - 0s 135us/sample - loss: 31.6958 - coeff_loss: 1.4962 - wl_loss: 16.1748 - pos_loss: 11.6285\n",
      "Epoch 8/100\n",
      "2000/2000 [==============================] - 0s 125us/sample - loss: 31.3172 - coeff_loss: 1.4742 - wl_loss: 16.0600 - pos_loss: 11.4609\n",
      "Epoch 9/100\n",
      "2000/2000 [==============================] - 0s 138us/sample - loss: 31.0931 - coeff_loss: 1.4784 - wl_loss: 15.9760 - pos_loss: 11.4707\n",
      "Epoch 10/100\n",
      "2000/2000 [==============================] - 0s 127us/sample - loss: 30.8425 - coeff_loss: 1.4615 - wl_loss: 15.9278 - pos_loss: 11.3793\n",
      "Epoch 11/100\n",
      "2000/2000 [==============================] - 0s 138us/sample - loss: 30.7069 - coeff_loss: 1.4578 - wl_loss: 15.9067 - pos_loss: 11.3920\n",
      "Epoch 12/100\n",
      "2000/2000 [==============================] - 0s 156us/sample - loss: 30.4382 - coeff_loss: 1.4529 - wl_loss: 15.8233 - pos_loss: 11.3184\n",
      "Epoch 13/100\n",
      "2000/2000 [==============================] - 0s 179us/sample - loss: 30.3521 - coeff_loss: 1.4620 - wl_loss: 15.8089 - pos_loss: 11.3322\n",
      "Epoch 14/100\n",
      "2000/2000 [==============================] - 0s 169us/sample - loss: 30.1584 - coeff_loss: 1.4459 - wl_loss: 15.7433 - pos_loss: 11.3527\n",
      "Epoch 15/100\n",
      "2000/2000 [==============================] - 0s 169us/sample - loss: 29.9636 - coeff_loss: 1.4680 - wl_loss: 15.7324 - pos_loss: 11.2160\n",
      "Epoch 16/100\n",
      "2000/2000 [==============================] - 0s 204us/sample - loss: 29.8839 - coeff_loss: 1.4601 - wl_loss: 15.7123 - pos_loss: 11.2382\n",
      "Epoch 17/100\n",
      "2000/2000 [==============================] - 0s 155us/sample - loss: 29.7699 - coeff_loss: 1.4488 - wl_loss: 15.7137 - pos_loss: 11.2327\n",
      "Epoch 18/100\n",
      "2000/2000 [==============================] - 0s 143us/sample - loss: 29.6360 - coeff_loss: 1.4428 - wl_loss: 15.6924 - pos_loss: 11.2393\n",
      "Epoch 19/100\n",
      "2000/2000 [==============================] - 0s 106us/sample - loss: 29.4456 - coeff_loss: 1.4350 - wl_loss: 15.6769 - pos_loss: 11.1040\n",
      "Epoch 20/100\n",
      "2000/2000 [==============================] - 0s 112us/sample - loss: 29.4051 - coeff_loss: 1.4501 - wl_loss: 15.6688 - pos_loss: 11.1597\n",
      "Epoch 21/100\n",
      "2000/2000 [==============================] - 0s 117us/sample - loss: 29.2644 - coeff_loss: 1.4519 - wl_loss: 15.6602 - pos_loss: 11.1038\n",
      "Epoch 22/100\n",
      "2000/2000 [==============================] - 0s 120us/sample - loss: 29.1330 - coeff_loss: 1.4522 - wl_loss: 15.6001 - pos_loss: 11.1075\n",
      "Epoch 23/100\n",
      "2000/2000 [==============================] - 0s 117us/sample - loss: 29.2176 - coeff_loss: 1.4546 - wl_loss: 15.6008 - pos_loss: 11.2022\n",
      "Epoch 24/100\n",
      "2000/2000 [==============================] - 0s 126us/sample - loss: 29.1359 - coeff_loss: 1.4417 - wl_loss: 15.5984 - pos_loss: 11.2249\n",
      "Epoch 25/100\n",
      "2000/2000 [==============================] - 0s 118us/sample - loss: 28.9881 - coeff_loss: 1.4263 - wl_loss: 15.5951 - pos_loss: 11.1161\n",
      "Epoch 26/100\n",
      "2000/2000 [==============================] - 0s 131us/sample - loss: 28.9846 - coeff_loss: 1.4346 - wl_loss: 15.5958 - pos_loss: 11.1713\n",
      "Epoch 27/100\n",
      "2000/2000 [==============================] - 0s 113us/sample - loss: 28.8234 - coeff_loss: 1.4335 - wl_loss: 15.6008 - pos_loss: 11.0902\n",
      "Epoch 28/100\n",
      "2000/2000 [==============================] - 0s 112us/sample - loss: 28.6672 - coeff_loss: 1.4460 - wl_loss: 15.5305 - pos_loss: 11.0191\n",
      "Epoch 29/100\n",
      "2000/2000 [==============================] - 0s 112us/sample - loss: 28.6871 - coeff_loss: 1.4277 - wl_loss: 15.5515 - pos_loss: 11.0701\n",
      "Epoch 30/100\n",
      "2000/2000 [==============================] - 0s 108us/sample - loss: 28.7391 - coeff_loss: 1.4169 - wl_loss: 15.5958 - pos_loss: 11.1324\n",
      "Epoch 31/100\n",
      "2000/2000 [==============================] - 0s 113us/sample - loss: 28.6116 - coeff_loss: 1.4292 - wl_loss: 15.5420 - pos_loss: 11.1014\n",
      "Epoch 32/100\n",
      "2000/2000 [==============================] - 0s 109us/sample - loss: 28.5129 - coeff_loss: 1.4208 - wl_loss: 15.5395 - pos_loss: 11.0067\n",
      "Epoch 33/100\n",
      "2000/2000 [==============================] - 0s 111us/sample - loss: 28.4507 - coeff_loss: 1.4267 - wl_loss: 15.5354 - pos_loss: 11.0201\n",
      "Epoch 34/100\n",
      "2000/2000 [==============================] - 0s 111us/sample - loss: 28.4906 - coeff_loss: 1.4394 - wl_loss: 15.5571 - pos_loss: 11.0250\n",
      "Epoch 35/100\n",
      "2000/2000 [==============================] - 0s 114us/sample - loss: 28.3813 - coeff_loss: 1.4294 - wl_loss: 15.5370 - pos_loss: 10.9813\n",
      "Epoch 36/100\n",
      "2000/2000 [==============================] - 0s 110us/sample - loss: 28.3244 - coeff_loss: 1.4243 - wl_loss: 15.4913 - pos_loss: 10.9844\n",
      "Epoch 37/100\n",
      "2000/2000 [==============================] - 0s 116us/sample - loss: 28.3479 - coeff_loss: 1.4139 - wl_loss: 15.5150 - pos_loss: 11.0351\n",
      "Epoch 38/100\n",
      "2000/2000 [==============================] - 0s 115us/sample - loss: 28.2511 - coeff_loss: 1.4255 - wl_loss: 15.5151 - pos_loss: 10.9379\n",
      "Epoch 39/100\n",
      "2000/2000 [==============================] - 0s 108us/sample - loss: 28.2082 - coeff_loss: 1.4220 - wl_loss: 15.4948 - pos_loss: 10.9417\n",
      "Epoch 40/100\n",
      "2000/2000 [==============================] - 0s 107us/sample - loss: 28.1532 - coeff_loss: 1.4179 - wl_loss: 15.4916 - pos_loss: 10.8960\n",
      "Epoch 41/100\n",
      "2000/2000 [==============================] - 0s 104us/sample - loss: 28.0680 - coeff_loss: 1.4361 - wl_loss: 15.4749 - pos_loss: 10.8438\n",
      "Epoch 42/100\n",
      "2000/2000 [==============================] - 0s 107us/sample - loss: 28.0849 - coeff_loss: 1.4167 - wl_loss: 15.4701 - pos_loss: 10.8435\n",
      "Epoch 43/100\n",
      "2000/2000 [==============================] - 0s 120us/sample - loss: 28.1011 - coeff_loss: 1.4211 - wl_loss: 15.4583 - pos_loss: 10.9020\n",
      "Epoch 44/100\n",
      "2000/2000 [==============================] - 0s 119us/sample - loss: 28.0054 - coeff_loss: 1.4107 - wl_loss: 15.4568 - pos_loss: 10.8375\n",
      "Epoch 45/100\n",
      "2000/2000 [==============================] - 0s 122us/sample - loss: 27.9855 - coeff_loss: 1.4234 - wl_loss: 15.4630 - pos_loss: 10.8234\n",
      "Epoch 46/100\n",
      "2000/2000 [==============================] - 0s 123us/sample - loss: 27.9201 - coeff_loss: 1.4276 - wl_loss: 15.4549 - pos_loss: 10.7486\n",
      "Epoch 47/100\n",
      "2000/2000 [==============================] - 0s 115us/sample - loss: 27.9317 - coeff_loss: 1.4168 - wl_loss: 15.4445 - pos_loss: 10.7820\n",
      "Epoch 48/100\n",
      "2000/2000 [==============================] - 0s 144us/sample - loss: 27.9422 - coeff_loss: 1.4198 - wl_loss: 15.4445 - pos_loss: 10.8159\n",
      "Epoch 49/100\n",
      "2000/2000 [==============================] - 0s 128us/sample - loss: 27.9581 - coeff_loss: 1.4328 - wl_loss: 15.4355 - pos_loss: 10.8102\n",
      "Epoch 50/100\n",
      "2000/2000 [==============================] - 0s 112us/sample - loss: 27.8891 - coeff_loss: 1.4098 - wl_loss: 15.4137 - pos_loss: 10.8094\n",
      "Epoch 51/100\n",
      "2000/2000 [==============================] - 0s 119us/sample - loss: 27.7700 - coeff_loss: 1.4127 - wl_loss: 15.4246 - pos_loss: 10.6827\n",
      "Epoch 52/100\n",
      "2000/2000 [==============================] - 0s 110us/sample - loss: 27.7150 - coeff_loss: 1.4108 - wl_loss: 15.4015 - pos_loss: 10.6381\n",
      "Epoch 53/100\n",
      "2000/2000 [==============================] - 0s 109us/sample - loss: 27.7975 - coeff_loss: 1.4127 - wl_loss: 15.4301 - pos_loss: 10.7118\n",
      "Epoch 54/100\n",
      "2000/2000 [==============================] - 0s 113us/sample - loss: 27.8793 - coeff_loss: 1.4119 - wl_loss: 15.4170 - pos_loss: 10.8217\n",
      "Epoch 55/100\n",
      "2000/2000 [==============================] - 0s 119us/sample - loss: 27.7547 - coeff_loss: 1.4080 - wl_loss: 15.4067 - pos_loss: 10.7072\n",
      "Epoch 56/100\n",
      "2000/2000 [==============================] - 0s 118us/sample - loss: 27.7019 - coeff_loss: 1.4143 - wl_loss: 15.4086 - pos_loss: 10.6226\n",
      "Epoch 57/100\n",
      "2000/2000 [==============================] - 0s 118us/sample - loss: 27.6524 - coeff_loss: 1.4130 - wl_loss: 15.4019 - pos_loss: 10.5823\n",
      "Epoch 58/100\n",
      "2000/2000 [==============================] - 0s 125us/sample - loss: 27.7134 - coeff_loss: 1.4119 - wl_loss: 15.3921 - pos_loss: 10.6892\n",
      "Epoch 59/100\n",
      "2000/2000 [==============================] - 0s 117us/sample - loss: 27.7239 - coeff_loss: 1.4122 - wl_loss: 15.4409 - pos_loss: 10.6421\n",
      "Epoch 60/100\n",
      "2000/2000 [==============================] - 0s 105us/sample - loss: 27.7396 - coeff_loss: 1.3996 - wl_loss: 15.4114 - pos_loss: 10.6798\n",
      "Epoch 61/100\n",
      "2000/2000 [==============================] - 0s 105us/sample - loss: 27.5678 - coeff_loss: 1.4063 - wl_loss: 15.4069 - pos_loss: 10.5452\n",
      "Epoch 62/100\n",
      "2000/2000 [==============================] - 0s 113us/sample - loss: 27.5910 - coeff_loss: 1.4014 - wl_loss: 15.3969 - pos_loss: 10.5873\n",
      "Epoch 63/100\n",
      "2000/2000 [==============================] - 0s 112us/sample - loss: 27.6178 - coeff_loss: 1.4051 - wl_loss: 15.3916 - pos_loss: 10.5640\n",
      "Epoch 64/100\n",
      "2000/2000 [==============================] - 0s 108us/sample - loss: 27.6577 - coeff_loss: 1.4115 - wl_loss: 15.3974 - pos_loss: 10.6106\n",
      "Epoch 65/100\n",
      "2000/2000 [==============================] - 0s 118us/sample - loss: 27.6929 - coeff_loss: 1.4295 - wl_loss: 15.3968 - pos_loss: 10.6230\n",
      "Epoch 66/100\n",
      "2000/2000 [==============================] - 0s 120us/sample - loss: 27.6682 - coeff_loss: 1.4042 - wl_loss: 15.3868 - pos_loss: 10.6452\n",
      "Epoch 67/100\n",
      "2000/2000 [==============================] - 0s 118us/sample - loss: 27.6081 - coeff_loss: 1.4068 - wl_loss: 15.4137 - pos_loss: 10.5663\n",
      "Epoch 68/100\n",
      "2000/2000 [==============================] - 0s 128us/sample - loss: 27.5153 - coeff_loss: 1.4080 - wl_loss: 15.4010 - pos_loss: 10.4940\n",
      "Epoch 69/100\n",
      "2000/2000 [==============================] - 0s 122us/sample - loss: 27.4430 - coeff_loss: 1.4108 - wl_loss: 15.3846 - pos_loss: 10.4061\n",
      "Epoch 70/100\n",
      "2000/2000 [==============================] - 0s 118us/sample - loss: 27.4977 - coeff_loss: 1.4065 - wl_loss: 15.3967 - pos_loss: 10.4665\n",
      "Epoch 71/100\n",
      "2000/2000 [==============================] - 0s 124us/sample - loss: 27.4734 - coeff_loss: 1.4002 - wl_loss: 15.3836 - pos_loss: 10.4456\n",
      "Epoch 72/100\n",
      "2000/2000 [==============================] - 0s 120us/sample - loss: 27.4214 - coeff_loss: 1.4017 - wl_loss: 15.3885 - pos_loss: 10.4000\n",
      "Epoch 73/100\n",
      "2000/2000 [==============================] - 0s 123us/sample - loss: 27.4002 - coeff_loss: 1.4081 - wl_loss: 15.3884 - pos_loss: 10.3937\n",
      "Epoch 74/100\n",
      "2000/2000 [==============================] - 0s 119us/sample - loss: 27.5028 - coeff_loss: 1.4015 - wl_loss: 15.3874 - pos_loss: 10.4973\n",
      "Epoch 75/100\n",
      "2000/2000 [==============================] - 0s 119us/sample - loss: 27.4363 - coeff_loss: 1.3938 - wl_loss: 15.3839 - pos_loss: 10.4239\n",
      "Epoch 76/100\n",
      "2000/2000 [==============================] - 0s 120us/sample - loss: 27.3810 - coeff_loss: 1.3997 - wl_loss: 15.3782 - pos_loss: 10.3670\n",
      "Epoch 77/100\n",
      "2000/2000 [==============================] - 0s 126us/sample - loss: 27.4141 - coeff_loss: 1.3976 - wl_loss: 15.3878 - pos_loss: 10.4090\n",
      "Epoch 78/100\n",
      "2000/2000 [==============================] - 0s 110us/sample - loss: 27.3366 - coeff_loss: 1.3954 - wl_loss: 15.3976 - pos_loss: 10.3092\n",
      "Epoch 79/100\n",
      "2000/2000 [==============================] - 0s 105us/sample - loss: 27.3959 - coeff_loss: 1.3998 - wl_loss: 15.3847 - pos_loss: 10.3776\n",
      "Epoch 80/100\n",
      "2000/2000 [==============================] - 0s 122us/sample - loss: 27.3357 - coeff_loss: 1.3955 - wl_loss: 15.3950 - pos_loss: 10.3221\n",
      "Epoch 81/100\n",
      "2000/2000 [==============================] - 0s 132us/sample - loss: 27.3383 - coeff_loss: 1.3983 - wl_loss: 15.3920 - pos_loss: 10.3139\n",
      "Epoch 82/100\n",
      "2000/2000 [==============================] - 0s 139us/sample - loss: 27.3383 - coeff_loss: 1.4046 - wl_loss: 15.3770 - pos_loss: 10.3307\n",
      "Epoch 83/100\n",
      "2000/2000 [==============================] - 0s 116us/sample - loss: 27.3663 - coeff_loss: 1.4038 - wl_loss: 15.3826 - pos_loss: 10.3375\n",
      "Epoch 84/100\n",
      "2000/2000 [==============================] - 0s 112us/sample - loss: 27.3696 - coeff_loss: 1.3981 - wl_loss: 15.3748 - pos_loss: 10.3370\n",
      "Epoch 85/100\n",
      "2000/2000 [==============================] - 0s 121us/sample - loss: 27.3668 - coeff_loss: 1.4013 - wl_loss: 15.3754 - pos_loss: 10.3481\n",
      "Epoch 86/100\n",
      "2000/2000 [==============================] - 0s 118us/sample - loss: 27.3714 - coeff_loss: 1.4005 - wl_loss: 15.3834 - pos_loss: 10.3488\n",
      "Epoch 87/100\n",
      "2000/2000 [==============================] - 0s 118us/sample - loss: 27.2274 - coeff_loss: 1.4085 - wl_loss: 15.3685 - pos_loss: 10.2029\n",
      "Epoch 88/100\n",
      "2000/2000 [==============================] - 0s 111us/sample - loss: 27.3032 - coeff_loss: 1.4027 - wl_loss: 15.3787 - pos_loss: 10.2866\n",
      "Epoch 89/100\n",
      "2000/2000 [==============================] - 0s 105us/sample - loss: 27.3531 - coeff_loss: 1.3983 - wl_loss: 15.3821 - pos_loss: 10.3449\n",
      "Epoch 90/100\n",
      "2000/2000 [==============================] - 0s 109us/sample - loss: 27.3119 - coeff_loss: 1.3978 - wl_loss: 15.3747 - pos_loss: 10.3138\n",
      "Epoch 91/100\n",
      "2000/2000 [==============================] - 0s 117us/sample - loss: 27.3039 - coeff_loss: 1.4066 - wl_loss: 15.3893 - pos_loss: 10.2651\n",
      "Epoch 92/100\n",
      "2000/2000 [==============================] - 0s 112us/sample - loss: 27.2608 - coeff_loss: 1.4056 - wl_loss: 15.3753 - pos_loss: 10.2163\n",
      "Epoch 93/100\n",
      "2000/2000 [==============================] - 0s 108us/sample - loss: 27.2705 - coeff_loss: 1.3993 - wl_loss: 15.3792 - pos_loss: 10.2340\n",
      "Epoch 94/100\n",
      "2000/2000 [==============================] - 0s 111us/sample - loss: 27.2404 - coeff_loss: 1.4003 - wl_loss: 15.3810 - pos_loss: 10.1908\n",
      "Epoch 95/100\n",
      "2000/2000 [==============================] - 0s 105us/sample - loss: 27.2238 - coeff_loss: 1.3957 - wl_loss: 15.3747 - pos_loss: 10.1953\n",
      "Epoch 96/100\n",
      "2000/2000 [==============================] - 0s 120us/sample - loss: 27.1975 - coeff_loss: 1.4008 - wl_loss: 15.3687 - pos_loss: 10.1600\n",
      "Epoch 97/100\n",
      "2000/2000 [==============================] - 0s 105us/sample - loss: 27.1803 - coeff_loss: 1.3977 - wl_loss: 15.3789 - pos_loss: 10.1613\n",
      "Epoch 98/100\n",
      "2000/2000 [==============================] - 0s 110us/sample - loss: 27.1490 - coeff_loss: 1.4050 - wl_loss: 15.3863 - pos_loss: 10.1150\n",
      "Epoch 99/100\n",
      "2000/2000 [==============================] - 0s 114us/sample - loss: 27.1295 - coeff_loss: 1.3979 - wl_loss: 15.3771 - pos_loss: 10.1102\n",
      "Epoch 100/100\n",
      "2000/2000 [==============================] - 0s 115us/sample - loss: 27.1243 - coeff_loss: 1.3926 - wl_loss: 15.3835 - pos_loss: 10.0961\n"
     ]
    },
    {
     "data": {
      "text/plain": [
       "<tensorflow.python.keras.callbacks.History at 0xb86eacbe0>"
      ]
     },
     "execution_count": 249,
     "metadata": {},
     "output_type": "execute_result"
    }
   ],
   "source": [
    "model.fit(arr_inputs,[outputs1,outputs2log,outputs3log],epochs=100,callbacks=[tensorboard_callback])"
   ]
  },
  {
   "cell_type": "code",
   "execution_count": 319,
   "metadata": {
    "scrolled": true
   },
   "outputs": [],
   "source": [
    "#%tensorboard --logdir logs"
   ]
  },
  {
   "cell_type": "code",
   "execution_count": 224,
   "metadata": {
    "scrolled": true
   },
   "outputs": [
    {
     "data": {
      "text/plain": [
       "[array([[-5.3437433 , -3.5400949 , -2.3920736 ,  0.08674717,  1.2641833 ,\n",
       "          1.8221506 ,  2.3564951 ,  2.897774  ,  3.330103  ,  3.6342685 ]],\n",
       "       dtype=float32),\n",
       " array([[10.330228,  0.      ,  9.088828,  9.671615, 10.885034, 10.932921,\n",
       "         11.953144, 13.073652, 13.73109 , 13.870873]], dtype=float32),\n",
       " array([[ 0.      ,  0.      ,  9.319574, 10.249802,  8.247792, 10.877963,\n",
       "          7.100739,  0.      ,  0.      ,  0.      ]], dtype=float32)]"
      ]
     },
     "execution_count": 224,
     "metadata": {},
     "output_type": "execute_result"
    }
   ],
   "source": [
    "model.predict(arr_inputs[0:1,:,:])"
   ]
  },
  {
   "cell_type": "code",
   "execution_count": 13,
   "metadata": {},
   "outputs": [
    {
     "ename": "NameError",
     "evalue": "name 'model' is not defined",
     "output_type": "error",
     "traceback": [
      "\u001b[0;31m---------------------------------------------------------------------------\u001b[0m",
      "\u001b[0;31mNameError\u001b[0m                                 Traceback (most recent call last)",
      "\u001b[0;32m<ipython-input-13-5771e7592c92>\u001b[0m in \u001b[0;36m<module>\u001b[0;34m\u001b[0m\n\u001b[1;32m      5\u001b[0m     \u001b[0;31m#random.shuffle(sample_input)\u001b[0m\u001b[0;34m\u001b[0m\u001b[0;34m\u001b[0m\u001b[0;34m\u001b[0m\u001b[0m\n\u001b[1;32m      6\u001b[0m     \u001b[0msample_input\u001b[0m \u001b[0;34m=\u001b[0m \u001b[0mnp\u001b[0m\u001b[0;34m.\u001b[0m\u001b[0mexpand_dims\u001b[0m\u001b[0;34m(\u001b[0m\u001b[0msample_input\u001b[0m\u001b[0;34m,\u001b[0m\u001b[0;36m0\u001b[0m\u001b[0;34m)\u001b[0m\u001b[0;34m\u001b[0m\u001b[0;34m\u001b[0m\u001b[0m\n\u001b[0;32m----> 7\u001b[0;31m     \u001b[0mplt\u001b[0m\u001b[0;34m.\u001b[0m\u001b[0mplot\u001b[0m\u001b[0;34m(\u001b[0m\u001b[0mplot_outputs\u001b[0m\u001b[0;34m(\u001b[0m\u001b[0;34m*\u001b[0m\u001b[0;34m[\u001b[0m\u001b[0mx\u001b[0m\u001b[0;34m[\u001b[0m\u001b[0;36m0\u001b[0m\u001b[0;34m]\u001b[0m \u001b[0;32mfor\u001b[0m \u001b[0mx\u001b[0m \u001b[0;32min\u001b[0m \u001b[0mmodel\u001b[0m\u001b[0;34m.\u001b[0m\u001b[0mpredict\u001b[0m\u001b[0;34m(\u001b[0m\u001b[0msample_input\u001b[0m\u001b[0;34m)\u001b[0m\u001b[0;34m]\u001b[0m\u001b[0;34m)\u001b[0m\u001b[0;34m)\u001b[0m\u001b[0;34m\u001b[0m\u001b[0;34m\u001b[0m\u001b[0m\n\u001b[0m",
      "\u001b[0;31mNameError\u001b[0m: name 'model' is not defined"
     ]
    },
    {
     "data": {
      "image/png": "[encoded data removed]",
      "text/plain": [
       "<Figure size 432x288 with 1 Axes>"
      ]
     },
     "metadata": {
      "needs_background": "light"
     },
     "output_type": "display_data"
    }
   ],
   "source": [
    "for i in range(0,5):\n",
    "    plt.figure()\n",
    "    plt.plot(plot_outputs(outputs1[i],outputs2log[i],outputs3log[i]))\n",
    "    sample_input = arr_inputs[i:i+1][0].copy()\n",
    "    #random.shuffle(sample_input)\n",
    "    sample_input = np.expand_dims(sample_input,0)\n",
    "    plt.plot(plot_outputs(*[x[0] for x in model.predict(sample_input)]))"
   ]
  },
  {
   "cell_type": "markdown",
   "metadata": {},
   "source": [
    "### Train the CNN"
   ]
  },
  {
   "cell_type": "code",
   "execution_count": 252,
   "metadata": {},
   "outputs": [
    {
     "name": "stdout",
     "output_type": "stream",
     "text": [
      "Train on 2000 samples\n",
      "Epoch 1/100\n",
      "2000/2000 [==============================] - 4s 2ms/sample - loss: 54.9684 - coeff_loss: 1.9628 - wl_loss: 27.7786 - pos_loss: 25.0804\n",
      "Epoch 2/100\n",
      "2000/2000 [==============================] - 3s 1ms/sample - loss: 36.9710 - coeff_loss: 1.4605 - wl_loss: 12.6669 - pos_loss: 22.8150\n",
      "Epoch 3/100\n",
      "2000/2000 [==============================] - 3s 1ms/sample - loss: 36.4425 - coeff_loss: 1.4445 - wl_loss: 12.2514 - pos_loss: 22.7277\n",
      "Epoch 4/100\n",
      "2000/2000 [==============================] - 3s 1ms/sample - loss: 36.1840 - coeff_loss: 1.4348 - wl_loss: 12.0946 - pos_loss: 22.6590\n",
      "Epoch 5/100\n",
      "2000/2000 [==============================] - 3s 2ms/sample - loss: 36.0498 - coeff_loss: 1.4353 - wl_loss: 12.0455 - pos_loss: 22.5758\n",
      "Epoch 6/100\n",
      "2000/2000 [==============================] - 3s 1ms/sample - loss: 35.9346 - coeff_loss: 1.4103 - wl_loss: 11.9961 - pos_loss: 22.5447\n",
      "Epoch 7/100\n",
      "2000/2000 [==============================] - 3s 2ms/sample - loss: 35.9076 - coeff_loss: 1.4131 - wl_loss: 12.0001 - pos_loss: 22.5142\n",
      "Epoch 8/100\n",
      "2000/2000 [==============================] - 3s 2ms/sample - loss: 35.8418 - coeff_loss: 1.4221 - wl_loss: 12.0067 - pos_loss: 22.4307\n",
      "Epoch 9/100\n",
      "2000/2000 [==============================] - 3s 2ms/sample - loss: 35.7040 - coeff_loss: 1.4106 - wl_loss: 11.9901 - pos_loss: 22.3247\n",
      "Epoch 10/100\n",
      "2000/2000 [==============================] - 4s 2ms/sample - loss: 35.6981 - coeff_loss: 1.4083 - wl_loss: 12.0167 - pos_loss: 22.2708\n",
      "Epoch 11/100\n",
      "2000/2000 [==============================] - 4s 2ms/sample - loss: 35.6422 - coeff_loss: 1.3980 - wl_loss: 11.9706 - pos_loss: 22.2640\n",
      "Epoch 12/100\n",
      "2000/2000 [==============================] - 4s 2ms/sample - loss: 35.6412 - coeff_loss: 1.4054 - wl_loss: 11.9777 - pos_loss: 22.2837\n",
      "Epoch 13/100\n",
      "2000/2000 [==============================] - 3s 1ms/sample - loss: 35.6049 - coeff_loss: 1.4026 - wl_loss: 11.9672 - pos_loss: 22.2512\n",
      "Epoch 14/100\n",
      "2000/2000 [==============================] - 3s 1ms/sample - loss: 35.4580 - coeff_loss: 1.3923 - wl_loss: 11.9408 - pos_loss: 22.1308\n",
      "Epoch 15/100\n",
      "2000/2000 [==============================] - 3s 1ms/sample - loss: 35.4076 - coeff_loss: 1.3841 - wl_loss: 11.9388 - pos_loss: 22.1042\n",
      "Epoch 16/100\n",
      "2000/2000 [==============================] - 3s 2ms/sample - loss: 35.3649 - coeff_loss: 1.3818 - wl_loss: 11.9347 - pos_loss: 22.0720\n",
      "Epoch 17/100\n",
      "2000/2000 [==============================] - 3s 1ms/sample - loss: 35.2648 - coeff_loss: 1.3934 - wl_loss: 11.9299 - pos_loss: 21.9600\n",
      "Epoch 18/100\n",
      "2000/2000 [==============================] - 3s 1ms/sample - loss: 35.2255 - coeff_loss: 1.3866 - wl_loss: 11.9379 - pos_loss: 21.8972\n",
      "Epoch 19/100\n",
      "2000/2000 [==============================] - 3s 1ms/sample - loss: 35.2575 - coeff_loss: 1.3848 - wl_loss: 11.9573 - pos_loss: 21.9135\n",
      "Epoch 20/100\n",
      "2000/2000 [==============================] - 2s 1ms/sample - loss: 35.2393 - coeff_loss: 1.3832 - wl_loss: 11.9649 - pos_loss: 21.9175\n",
      "Epoch 21/100\n",
      "2000/2000 [==============================] - 3s 1ms/sample - loss: 35.0965 - coeff_loss: 1.3881 - wl_loss: 11.9299 - pos_loss: 21.7707\n",
      "Epoch 22/100\n",
      "2000/2000 [==============================] - 2s 1ms/sample - loss: 35.0737 - coeff_loss: 1.3858 - wl_loss: 11.9133 - pos_loss: 21.7526\n",
      "Epoch 23/100\n",
      "2000/2000 [==============================] - 3s 1ms/sample - loss: 34.9465 - coeff_loss: 1.3802 - wl_loss: 11.9214 - pos_loss: 21.6406\n",
      "Epoch 24/100\n",
      "2000/2000 [==============================] - 3s 2ms/sample - loss: 34.9695 - coeff_loss: 1.3777 - wl_loss: 11.9401 - pos_loss: 21.6248\n",
      "Epoch 25/100\n",
      "2000/2000 [==============================] - 4s 2ms/sample - loss: 34.9649 - coeff_loss: 1.3728 - wl_loss: 11.9449 - pos_loss: 21.6564\n",
      "Epoch 26/100\n",
      "2000/2000 [==============================] - 3s 2ms/sample - loss: 34.8410 - coeff_loss: 1.3793 - wl_loss: 11.9401 - pos_loss: 21.5136\n",
      "Epoch 27/100\n",
      "2000/2000 [==============================] - 3s 1ms/sample - loss: 34.8112 - coeff_loss: 1.3768 - wl_loss: 11.8995 - pos_loss: 21.5452\n",
      "Epoch 28/100\n",
      "2000/2000 [==============================] - 3s 1ms/sample - loss: 34.7153 - coeff_loss: 1.3918 - wl_loss: 11.9053 - pos_loss: 21.3949\n",
      "Epoch 29/100\n",
      "2000/2000 [==============================] - 3s 2ms/sample - loss: 34.5961 - coeff_loss: 1.3822 - wl_loss: 11.9053 - pos_loss: 21.3027\n",
      "Epoch 30/100\n",
      "2000/2000 [==============================] - 3s 2ms/sample - loss: 34.5995 - coeff_loss: 1.3777 - wl_loss: 11.9131 - pos_loss: 21.3138\n",
      "Epoch 31/100\n",
      "2000/2000 [==============================] - 3s 2ms/sample - loss: 34.5201 - coeff_loss: 1.3801 - wl_loss: 11.9427 - pos_loss: 21.1876\n",
      "Epoch 32/100\n",
      "2000/2000 [==============================] - 3s 2ms/sample - loss: 34.5030 - coeff_loss: 1.3734 - wl_loss: 11.9031 - pos_loss: 21.2388\n",
      "Epoch 33/100\n",
      "2000/2000 [==============================] - 3s 1ms/sample - loss: 34.4392 - coeff_loss: 1.3706 - wl_loss: 11.8906 - pos_loss: 21.1796\n",
      "Epoch 34/100\n",
      "2000/2000 [==============================] - 3s 1ms/sample - loss: 34.3889 - coeff_loss: 1.3639 - wl_loss: 11.9019 - pos_loss: 21.1162\n",
      "Epoch 35/100\n",
      "2000/2000 [==============================] - 3s 1ms/sample - loss: 34.3100 - coeff_loss: 1.3673 - wl_loss: 11.8939 - pos_loss: 21.0634\n",
      "Epoch 36/100\n",
      "2000/2000 [==============================] - 3s 1ms/sample - loss: 34.2695 - coeff_loss: 1.3676 - wl_loss: 11.9118 - pos_loss: 20.9806\n",
      "Epoch 37/100\n",
      "2000/2000 [==============================] - 3s 1ms/sample - loss: 34.1770 - coeff_loss: 1.3646 - wl_loss: 11.8929 - pos_loss: 20.9063\n",
      "Epoch 38/100\n",
      "2000/2000 [==============================] - 3s 1ms/sample - loss: 34.1296 - coeff_loss: 1.3796 - wl_loss: 11.9161 - pos_loss: 20.8586\n",
      "Epoch 39/100\n",
      "2000/2000 [==============================] - 3s 1ms/sample - loss: 33.9885 - coeff_loss: 1.3726 - wl_loss: 11.9116 - pos_loss: 20.7278\n",
      "Epoch 40/100\n",
      "2000/2000 [==============================] - 3s 2ms/sample - loss: 33.9780 - coeff_loss: 1.3722 - wl_loss: 11.8987 - pos_loss: 20.6808\n",
      "Epoch 41/100\n",
      "2000/2000 [==============================] - 3s 1ms/sample - loss: 34.0241 - coeff_loss: 1.3638 - wl_loss: 11.8920 - pos_loss: 20.7867\n",
      "Epoch 42/100\n",
      "2000/2000 [==============================] - 4s 2ms/sample - loss: 28.1294 - coeff_loss: 1.3578 - wl_loss: 11.8935 - pos_loss: 14.8600\n",
      "Epoch 43/100\n",
      "2000/2000 [==============================] - 4s 2ms/sample - loss: 23.2065 - coeff_loss: 1.3603 - wl_loss: 11.8837 - pos_loss: 9.9733\n",
      "Epoch 44/100\n",
      "2000/2000 [==============================] - 4s 2ms/sample - loss: 22.9980 - coeff_loss: 1.3589 - wl_loss: 11.8964 - pos_loss: 9.7349\n",
      "Epoch 45/100\n",
      "2000/2000 [==============================] - 4s 2ms/sample - loss: 22.8701 - coeff_loss: 1.3583 - wl_loss: 11.8756 - pos_loss: 9.6414\n",
      "Epoch 46/100\n",
      "2000/2000 [==============================] - 3s 2ms/sample - loss: 22.8001 - coeff_loss: 1.3561 - wl_loss: 11.8868 - pos_loss: 9.5729\n",
      "Epoch 47/100\n",
      "2000/2000 [==============================] - 3s 1ms/sample - loss: 22.6973 - coeff_loss: 1.3618 - wl_loss: 11.9041 - pos_loss: 9.4406\n",
      "Epoch 48/100\n",
      "2000/2000 [==============================] - 3s 1ms/sample - loss: 22.5216 - coeff_loss: 1.3710 - wl_loss: 11.8833 - pos_loss: 9.2652\n",
      "Epoch 49/100\n",
      "2000/2000 [==============================] - 3s 1ms/sample - loss: 22.4358 - coeff_loss: 1.3610 - wl_loss: 11.8771 - pos_loss: 9.1964\n",
      "Epoch 50/100\n",
      "2000/2000 [==============================] - 3s 1ms/sample - loss: 22.3109 - coeff_loss: 1.3534 - wl_loss: 11.8935 - pos_loss: 9.0709\n",
      "Epoch 51/100\n",
      "2000/2000 [==============================] - 3s 1ms/sample - loss: 22.1900 - coeff_loss: 1.3572 - wl_loss: 11.8650 - pos_loss: 8.9601\n",
      "Epoch 52/100\n",
      "2000/2000 [==============================] - 3s 1ms/sample - loss: 22.1632 - coeff_loss: 1.3583 - wl_loss: 11.8950 - pos_loss: 8.9250\n",
      "Epoch 53/100\n",
      "2000/2000 [==============================] - 3s 2ms/sample - loss: 22.0834 - coeff_loss: 1.3604 - wl_loss: 11.8787 - pos_loss: 8.8601\n",
      "Epoch 54/100\n",
      "2000/2000 [==============================] - 4s 2ms/sample - loss: 21.9381 - coeff_loss: 1.3536 - wl_loss: 11.8669 - pos_loss: 8.7292\n",
      "Epoch 55/100\n",
      "2000/2000 [==============================] - 4s 2ms/sample - loss: 21.8678 - coeff_loss: 1.3652 - wl_loss: 11.8937 - pos_loss: 8.6193\n",
      "Epoch 56/100\n",
      "2000/2000 [==============================] - 3s 2ms/sample - loss: 21.7560 - coeff_loss: 1.3538 - wl_loss: 11.8697 - pos_loss: 8.5656\n",
      "Epoch 57/100\n",
      "2000/2000 [==============================] - 3s 2ms/sample - loss: 21.6580 - coeff_loss: 1.3503 - wl_loss: 11.8517 - pos_loss: 8.4482\n",
      "Epoch 58/100\n",
      "2000/2000 [==============================] - 3s 2ms/sample - loss: 21.4993 - coeff_loss: 1.3612 - wl_loss: 11.8598 - pos_loss: 8.2705\n",
      "Epoch 59/100\n",
      "2000/2000 [==============================] - 3s 1ms/sample - loss: 21.3666 - coeff_loss: 1.3478 - wl_loss: 11.8997 - pos_loss: 8.1063\n",
      "Epoch 60/100\n",
      "2000/2000 [==============================] - 3s 1ms/sample - loss: 21.3483 - coeff_loss: 1.3514 - wl_loss: 11.8939 - pos_loss: 8.1091\n",
      "Epoch 61/100\n",
      "2000/2000 [==============================] - 3s 1ms/sample - loss: 21.1471 - coeff_loss: 1.3539 - wl_loss: 11.8480 - pos_loss: 7.9414\n",
      "Epoch 62/100\n",
      "2000/2000 [==============================] - 3s 1ms/sample - loss: 21.1538 - coeff_loss: 1.3544 - wl_loss: 11.8842 - pos_loss: 7.9156\n",
      "Epoch 63/100\n",
      "2000/2000 [==============================] - 3s 2ms/sample - loss: 20.9971 - coeff_loss: 1.3446 - wl_loss: 11.8918 - pos_loss: 7.7695\n",
      "Epoch 64/100\n",
      "2000/2000 [==============================] - 3s 2ms/sample - loss: 20.8751 - coeff_loss: 1.3487 - wl_loss: 11.8576 - pos_loss: 7.6635\n",
      "Epoch 65/100\n",
      "2000/2000 [==============================] - 3s 1ms/sample - loss: 20.7354 - coeff_loss: 1.3433 - wl_loss: 11.8453 - pos_loss: 7.5415\n",
      "Epoch 66/100\n",
      "2000/2000 [==============================] - 3s 2ms/sample - loss: 20.6856 - coeff_loss: 1.3439 - wl_loss: 11.8724 - pos_loss: 7.4986\n",
      "Epoch 67/100\n",
      "2000/2000 [==============================] - 3s 1ms/sample - loss: 20.5001 - coeff_loss: 1.3497 - wl_loss: 11.8461 - pos_loss: 7.3023\n",
      "Epoch 68/100\n",
      "2000/2000 [==============================] - 3s 2ms/sample - loss: 20.4225 - coeff_loss: 1.3464 - wl_loss: 11.8331 - pos_loss: 7.2600\n",
      "Epoch 69/100\n",
      "2000/2000 [==============================] - 3s 1ms/sample - loss: 20.3569 - coeff_loss: 1.3501 - wl_loss: 11.8464 - pos_loss: 7.1536\n",
      "Epoch 70/100\n",
      "2000/2000 [==============================] - 3s 1ms/sample - loss: 20.1820 - coeff_loss: 1.3425 - wl_loss: 11.8412 - pos_loss: 6.9822\n",
      "Epoch 71/100\n",
      "2000/2000 [==============================] - 3s 1ms/sample - loss: 20.0895 - coeff_loss: 1.3458 - wl_loss: 11.8591 - pos_loss: 6.8735\n",
      "Epoch 72/100\n",
      "2000/2000 [==============================] - 3s 2ms/sample - loss: 20.0487 - coeff_loss: 1.3504 - wl_loss: 11.8750 - pos_loss: 6.8409\n",
      "Epoch 73/100\n",
      "2000/2000 [==============================] - 3s 1ms/sample - loss: 19.8875 - coeff_loss: 1.3445 - wl_loss: 11.8439 - pos_loss: 6.6961\n",
      "Epoch 74/100\n",
      "2000/2000 [==============================] - 3s 1ms/sample - loss: 19.8315 - coeff_loss: 1.3558 - wl_loss: 11.8573 - pos_loss: 6.6239\n",
      "Epoch 75/100\n",
      "2000/2000 [==============================] - 3s 1ms/sample - loss: 19.6890 - coeff_loss: 1.3386 - wl_loss: 11.8271 - pos_loss: 6.5274\n",
      "Epoch 76/100\n",
      "2000/2000 [==============================] - 3s 1ms/sample - loss: 19.6124 - coeff_loss: 1.3356 - wl_loss: 11.8262 - pos_loss: 6.4371\n",
      "Epoch 77/100\n",
      "2000/2000 [==============================] - 3s 1ms/sample - loss: 19.4704 - coeff_loss: 1.3367 - wl_loss: 11.8431 - pos_loss: 6.2961\n",
      "Epoch 78/100\n",
      "2000/2000 [==============================] - 3s 2ms/sample - loss: 19.3903 - coeff_loss: 1.3388 - wl_loss: 11.8376 - pos_loss: 6.2069\n",
      "Epoch 79/100\n",
      "2000/2000 [==============================] - 4s 2ms/sample - loss: 19.3580 - coeff_loss: 1.3343 - wl_loss: 11.8431 - pos_loss: 6.1782\n",
      "Epoch 80/100\n",
      "2000/2000 [==============================] - 3s 1ms/sample - loss: 19.1581 - coeff_loss: 1.3309 - wl_loss: 11.8279 - pos_loss: 5.9922\n",
      "Epoch 81/100\n",
      "2000/2000 [==============================] - 3s 1ms/sample - loss: 19.1794 - coeff_loss: 1.3366 - wl_loss: 11.9063 - pos_loss: 5.9402\n",
      "Epoch 82/100\n",
      "2000/2000 [==============================] - 3s 1ms/sample - loss: 19.0349 - coeff_loss: 1.3366 - wl_loss: 11.8418 - pos_loss: 5.8520\n",
      "Epoch 83/100\n",
      "2000/2000 [==============================] - 3s 1ms/sample - loss: 18.9224 - coeff_loss: 1.3369 - wl_loss: 11.8312 - pos_loss: 5.7782\n",
      "Epoch 84/100\n",
      "2000/2000 [==============================] - 3s 1ms/sample - loss: 18.8245 - coeff_loss: 1.3293 - wl_loss: 11.8138 - pos_loss: 5.6892\n",
      "Epoch 85/100\n",
      "2000/2000 [==============================] - 3s 1ms/sample - loss: 18.6664 - coeff_loss: 1.3255 - wl_loss: 11.8041 - pos_loss: 5.5298\n",
      "Epoch 86/100\n",
      "2000/2000 [==============================] - 3s 1ms/sample - loss: 18.5979 - coeff_loss: 1.3354 - wl_loss: 11.8146 - pos_loss: 5.4415\n",
      "Epoch 87/100\n",
      "2000/2000 [==============================] - 3s 1ms/sample - loss: 18.5236 - coeff_loss: 1.3340 - wl_loss: 11.8109 - pos_loss: 5.3786\n",
      "Epoch 88/100\n",
      "2000/2000 [==============================] - 3s 1ms/sample - loss: 18.4054 - coeff_loss: 1.3235 - wl_loss: 11.8150 - pos_loss: 5.2618\n",
      "Epoch 89/100\n",
      "2000/2000 [==============================] - 3s 1ms/sample - loss: 18.3612 - coeff_loss: 1.3330 - wl_loss: 11.8092 - pos_loss: 5.2208\n",
      "Epoch 90/100\n",
      "2000/2000 [==============================] - 3s 1ms/sample - loss: 18.2576 - coeff_loss: 1.3322 - wl_loss: 11.8116 - pos_loss: 5.1022\n",
      "Epoch 91/100\n",
      "2000/2000 [==============================] - 3s 1ms/sample - loss: 18.2411 - coeff_loss: 1.3309 - wl_loss: 11.8174 - pos_loss: 5.1126\n",
      "Epoch 92/100\n",
      "2000/2000 [==============================] - 3s 1ms/sample - loss: 18.2076 - coeff_loss: 1.3271 - wl_loss: 11.8385 - pos_loss: 5.0398\n",
      "Epoch 93/100\n",
      "2000/2000 [==============================] - 3s 1ms/sample - loss: 18.0621 - coeff_loss: 1.3228 - wl_loss: 11.8249 - pos_loss: 4.9136\n",
      "Epoch 94/100\n",
      "2000/2000 [==============================] - 3s 1ms/sample - loss: 17.9409 - coeff_loss: 1.3260 - wl_loss: 11.8052 - pos_loss: 4.8174\n",
      "Epoch 95/100\n",
      "2000/2000 [==============================] - 3s 1ms/sample - loss: 17.9218 - coeff_loss: 1.3276 - wl_loss: 11.7958 - pos_loss: 4.8063\n",
      "Epoch 96/100\n",
      "2000/2000 [==============================] - 3s 1ms/sample - loss: 17.7664 - coeff_loss: 1.3363 - wl_loss: 11.8175 - pos_loss: 4.6018\n",
      "Epoch 97/100\n",
      "2000/2000 [==============================] - 3s 1ms/sample - loss: 17.6525 - coeff_loss: 1.3332 - wl_loss: 11.7973 - pos_loss: 4.5133\n",
      "Epoch 98/100\n",
      "2000/2000 [==============================] - 3s 1ms/sample - loss: 17.5411 - coeff_loss: 1.3308 - wl_loss: 11.7965 - pos_loss: 4.4080\n",
      "Epoch 99/100\n",
      "2000/2000 [==============================] - 3s 1ms/sample - loss: 17.5099 - coeff_loss: 1.3278 - wl_loss: 11.8140 - pos_loss: 4.3708\n",
      "Epoch 100/100\n",
      "2000/2000 [==============================] - 3s 1ms/sample - loss: 17.4060 - coeff_loss: 1.3216 - wl_loss: 11.7878 - pos_loss: 4.3294\n"
     ]
    },
    {
     "data": {
      "text/plain": [
       "<tensorflow.python.keras.callbacks.History at 0xb7660f160>"
      ]
     },
     "execution_count": 252,
     "metadata": {},
     "output_type": "execute_result"
    }
   ],
   "source": [
    "model_conv.fit(arr_inputs,[outputs1,outputs2log,outputs3log],epochs=100,callbacks=[tensorboard_callback])"
   ]
  },
  {
   "cell_type": "code",
   "execution_count": 14,
   "metadata": {},
   "outputs": [
    {
     "ename": "NameError",
     "evalue": "name 'model_conv' is not defined",
     "output_type": "error",
     "traceback": [
      "\u001b[0;31m---------------------------------------------------------------------------\u001b[0m",
      "\u001b[0;31mNameError\u001b[0m                                 Traceback (most recent call last)",
      "\u001b[0;32m<ipython-input-14-3b8b3ede2635>\u001b[0m in \u001b[0;36m<module>\u001b[0;34m\u001b[0m\n\u001b[1;32m      5\u001b[0m     \u001b[0;31m#random.shuffle(sample_input)\u001b[0m\u001b[0;34m\u001b[0m\u001b[0;34m\u001b[0m\u001b[0;34m\u001b[0m\u001b[0m\n\u001b[1;32m      6\u001b[0m     \u001b[0msample_input\u001b[0m \u001b[0;34m=\u001b[0m \u001b[0mnp\u001b[0m\u001b[0;34m.\u001b[0m\u001b[0mexpand_dims\u001b[0m\u001b[0;34m(\u001b[0m\u001b[0msample_input\u001b[0m\u001b[0;34m,\u001b[0m\u001b[0;36m0\u001b[0m\u001b[0;34m)\u001b[0m\u001b[0;34m\u001b[0m\u001b[0;34m\u001b[0m\u001b[0m\n\u001b[0;32m----> 7\u001b[0;31m     \u001b[0mplt\u001b[0m\u001b[0;34m.\u001b[0m\u001b[0mplot\u001b[0m\u001b[0;34m(\u001b[0m\u001b[0mplot_outputs\u001b[0m\u001b[0;34m(\u001b[0m\u001b[0;34m*\u001b[0m\u001b[0;34m[\u001b[0m\u001b[0mx\u001b[0m\u001b[0;34m[\u001b[0m\u001b[0;36m0\u001b[0m\u001b[0;34m]\u001b[0m \u001b[0;32mfor\u001b[0m \u001b[0mx\u001b[0m \u001b[0;32min\u001b[0m \u001b[0mmodel_conv\u001b[0m\u001b[0;34m.\u001b[0m\u001b[0mpredict\u001b[0m\u001b[0;34m(\u001b[0m\u001b[0msample_input\u001b[0m\u001b[0;34m)\u001b[0m\u001b[0;34m]\u001b[0m\u001b[0;34m)\u001b[0m\u001b[0;34m)\u001b[0m\u001b[0;34m\u001b[0m\u001b[0;34m\u001b[0m\u001b[0m\n\u001b[0m",
      "\u001b[0;31mNameError\u001b[0m: name 'model_conv' is not defined"
     ]
    },
    {
     "data": {
      "image/png": "[encoded data removed]",
      "text/plain": [
       "<Figure size 432x288 with 1 Axes>"
      ]
     },
     "metadata": {
      "needs_background": "light"
     },
     "output_type": "display_data"
    }
   ],
   "source": [
    "for i in range(0,5):\n",
    "    plt.figure()\n",
    "    plt.plot(plot_outputs(outputs1[i],outputs2log[i],outputs3log[i]))\n",
    "    sample_input = arr_inputs[i:i+1][0].copy()\n",
    "    #random.shuffle(sample_input)\n",
    "    sample_input = np.expand_dims(sample_input,0)\n",
    "    plt.plot(plot_outputs(*[x[0] for x in model_conv.predict(sample_input)]))"
   ]
  },
  {
   "cell_type": "markdown",
   "metadata": {},
   "source": [
    "### Set up for conv2D"
   ]
  },
  {
   "cell_type": "code",
   "execution_count": 1,
   "metadata": {},
   "outputs": [
    {
     "ename": "NameError",
     "evalue": "name 'plt' is not defined",
     "output_type": "error",
     "traceback": [
      "\u001b[0;31m---------------------------------------------------------------------------\u001b[0m",
      "\u001b[0;31mNameError\u001b[0m                                 Traceback (most recent call last)",
      "\u001b[0;32m<ipython-input-1-3c0ed4203b63>\u001b[0m in \u001b[0;36m<module>\u001b[0;34m\u001b[0m\n\u001b[0;32m----> 1\u001b[0;31m \u001b[0mplt\u001b[0m\u001b[0;34m.\u001b[0m\u001b[0mrc\u001b[0m\u001b[0;34m(\u001b[0m\u001b[0;34m'axes.spines'\u001b[0m\u001b[0;34m,\u001b[0m \u001b[0;34m**\u001b[0m\u001b[0;34m{\u001b[0m\u001b[0;34m'bottom'\u001b[0m\u001b[0;34m:\u001b[0m\u001b[0;32mFalse\u001b[0m\u001b[0;34m,\u001b[0m \u001b[0;34m'left'\u001b[0m\u001b[0;34m:\u001b[0m\u001b[0;32mFalse\u001b[0m\u001b[0;34m,\u001b[0m \u001b[0;34m'right'\u001b[0m\u001b[0;34m:\u001b[0m\u001b[0;32mFalse\u001b[0m\u001b[0;34m,\u001b[0m \u001b[0;34m'top'\u001b[0m\u001b[0;34m:\u001b[0m\u001b[0;32mFalse\u001b[0m\u001b[0;34m}\u001b[0m\u001b[0;34m)\u001b[0m\u001b[0;34m\u001b[0m\u001b[0;34m\u001b[0m\u001b[0m\n\u001b[0m\u001b[1;32m      2\u001b[0m \u001b[0mplt\u001b[0m\u001b[0;34m.\u001b[0m\u001b[0mxticks\u001b[0m\u001b[0;34m(\u001b[0m\u001b[0;34m[\u001b[0m\u001b[0;34m]\u001b[0m\u001b[0;34m)\u001b[0m\u001b[0;34m\u001b[0m\u001b[0;34m\u001b[0m\u001b[0m\n\u001b[1;32m      3\u001b[0m \u001b[0mplt\u001b[0m\u001b[0;34m.\u001b[0m\u001b[0myticks\u001b[0m\u001b[0;34m(\u001b[0m\u001b[0;34m[\u001b[0m\u001b[0;34m]\u001b[0m\u001b[0;34m)\u001b[0m\u001b[0;34m\u001b[0m\u001b[0;34m\u001b[0m\u001b[0m\n\u001b[1;32m      4\u001b[0m \u001b[0mplt\u001b[0m\u001b[0;34m.\u001b[0m\u001b[0mscatter\u001b[0m\u001b[0;34m(\u001b[0m\u001b[0minputs\u001b[0m\u001b[0;34m[\u001b[0m\u001b[0;36m0\u001b[0m\u001b[0;34m]\u001b[0m\u001b[0;34m[\u001b[0m\u001b[0;34m:\u001b[0m\u001b[0;34m,\u001b[0m\u001b[0;36m0\u001b[0m\u001b[0;34m]\u001b[0m\u001b[0;34m,\u001b[0m\u001b[0minputs\u001b[0m\u001b[0;34m[\u001b[0m\u001b[0;36m0\u001b[0m\u001b[0;34m]\u001b[0m\u001b[0;34m[\u001b[0m\u001b[0;34m:\u001b[0m\u001b[0;34m,\u001b[0m\u001b[0;36m1\u001b[0m\u001b[0;34m]\u001b[0m\u001b[0;34m,\u001b[0m\u001b[0mcolor\u001b[0m\u001b[0;34m=\u001b[0m\u001b[0;34m'black'\u001b[0m\u001b[0;34m)\u001b[0m\u001b[0;34m\u001b[0m\u001b[0;34m\u001b[0m\u001b[0m\n",
      "\u001b[0;31mNameError\u001b[0m: name 'plt' is not defined"
     ]
    }
   ],
   "source": [
    "plt.rc('axes.spines', **{'bottom':False, 'left':False, 'right':False, 'top':False})\n",
    "plt.xticks([])\n",
    "plt.yticks([])\n",
    "plt.scatter(inputs[0][:,0],inputs[0][:,1],color='black')"
   ]
  },
  {
   "cell_type": "code",
   "execution_count": 262,
   "metadata": {},
   "outputs": [],
   "source": [
    "plt.rc('axes.spines', **{'bottom':False, 'left':False, 'right':False, 'top':False})\n",
    "for i,inp in enumerate(inputs):\n",
    "    plt.figure()\n",
    "    plt.xticks([])\n",
    "    plt.yticks([])\n",
    "    plt.scatter(inp[:,0],inp[:,1],color='black')\n",
    "    plt.savefig('images/points'+str(i)+'.png',bbox_inches='tight')\n",
    "    plt.close()"
   ]
  },
  {
   "cell_type": "code",
   "execution_count": 271,
   "metadata": {},
   "outputs": [],
   "source": [
    "def get_sort_key(filename):\n",
    "    return int(re.findall(r'(\\d+)',filename)[0])"
   ]
  },
  {
   "cell_type": "code",
   "execution_count": 273,
   "metadata": {},
   "outputs": [],
   "source": [
    "sorted_images = sorted(os.listdir('images'),key=get_sort_key)"
   ]
  },
  {
   "cell_type": "code",
   "execution_count": 274,
   "metadata": {},
   "outputs": [
    {
     "data": {
      "text/plain": [
       "'points0.png'"
      ]
     },
     "execution_count": 274,
     "metadata": {},
     "output_type": "execute_result"
    }
   ],
   "source": [
    "sorted_images[0]"
   ]
  },
  {
   "cell_type": "code",
   "execution_count": 293,
   "metadata": {},
   "outputs": [],
   "source": [
    "test = 1-np.array(Image.open('images/' + sorted_images[0]).convert('L'))/255"
   ]
  },
  {
   "cell_type": "code",
   "execution_count": 294,
   "metadata": {},
   "outputs": [
    {
     "data": {
      "text/plain": [
       "(238, 356)"
      ]
     },
     "execution_count": 294,
     "metadata": {},
     "output_type": "execute_result"
    }
   ],
   "source": [
    "test.shape"
   ]
  },
  {
   "cell_type": "code",
   "execution_count": 296,
   "metadata": {},
   "outputs": [
    {
     "ename": "NameError",
     "evalue": "name 'im' is not defined",
     "output_type": "error",
     "traceback": [
      "\u001b[0;31m---------------------------------------------------------------------------\u001b[0m",
      "\u001b[0;31mNameError\u001b[0m                                 Traceback (most recent call last)",
      "\u001b[0;32m<ipython-input-296-8e305bfbbd6a>\u001b[0m in \u001b[0;36m<module>\u001b[0;34m\u001b[0m\n\u001b[1;32m      1\u001b[0m \u001b[0mim_data\u001b[0m \u001b[0;34m=\u001b[0m \u001b[0mnp\u001b[0m\u001b[0;34m.\u001b[0m\u001b[0marray\u001b[0m\u001b[0;34m(\u001b[0m\u001b[0;34m[\u001b[0m\u001b[0;36m1\u001b[0m\u001b[0;34m-\u001b[0m\u001b[0mnp\u001b[0m\u001b[0;34m.\u001b[0m\u001b[0marray\u001b[0m\u001b[0;34m(\u001b[0m\u001b[0mImage\u001b[0m\u001b[0;34m.\u001b[0m\u001b[0mopen\u001b[0m\u001b[0;34m(\u001b[0m\u001b[0;34m'images/'\u001b[0m \u001b[0;34m+\u001b[0m \u001b[0mimname\u001b[0m\u001b[0;34m)\u001b[0m\u001b[0;34m.\u001b[0m\u001b[0mconvert\u001b[0m\u001b[0;34m(\u001b[0m\u001b[0;34m'L'\u001b[0m\u001b[0;34m)\u001b[0m\u001b[0;34m)\u001b[0m\u001b[0;34m/\u001b[0m\u001b[0;36m255\u001b[0m \u001b[0;32mfor\u001b[0m \u001b[0mimname\u001b[0m \u001b[0;32min\u001b[0m \u001b[0msorted_images\u001b[0m\u001b[0;34m]\u001b[0m\u001b[0;34m)\u001b[0m\u001b[0;34m\u001b[0m\u001b[0;34m\u001b[0m\u001b[0m\n\u001b[0;32m----> 2\u001b[0;31m \u001b[0mim\u001b[0m\u001b[0;34m.\u001b[0m\u001b[0mdata\u001b[0m\u001b[0;34m.\u001b[0m\u001b[0mshape\u001b[0m\u001b[0;34m\u001b[0m\u001b[0;34m\u001b[0m\u001b[0m\n\u001b[0m",
      "\u001b[0;31mNameError\u001b[0m: name 'im' is not defined"
     ]
    }
   ],
   "source": [
    "im_data = np.array([1-np.array(Image.open('images/' + imname).convert('L'))/255 for imname in sorted_images])"
   ]
  },
  {
   "cell_type": "code",
   "execution_count": 312,
   "metadata": {},
   "outputs": [
    {
     "data": {
      "text/plain": [
       "(2000, 238, 356, 1)"
      ]
     },
     "execution_count": 312,
     "metadata": {},
     "output_type": "execute_result"
    }
   ],
   "source": [
    "im_data = np.expand_dims(im_data,-1)\n",
    "im_data.shape"
   ]
  },
  {
   "cell_type": "code",
   "execution_count": 313,
   "metadata": {},
   "outputs": [],
   "source": [
    "def conv2_layer(Input,activation='relu',outname='conv'):\n",
    "    Start = tf.keras.layers.Convolution2D(64,kernel_size=(3,3),strides=(1,1),input_shape=(238,356,1),padding='same',activation=activation)(Input)\n",
    "    Pool1 = tf.keras.layers.MaxPooling2D(pool_size=(2,2),strides=(2,2))(Start)\n",
    "    Conv2 = tf.keras.layers.Convolution2D(64,kernel_size=(3,3),strides=(1,1),padding='same',activation=activation)(Pool1)\n",
    "    Pool2 = tf.keras.layers.MaxPooling2D(pool_size=(2,2),strides=(2,2))(Conv2)\n",
    "    Flat = tf.keras.layers.Flatten()(Pool2\n",
    "    #N = number of coefficients to take\n",
    "    Out = tf.keras.layers.Dense(N,activation=activation,name=outname)(Flat)\n",
    "    return Out"
   ]
  },
  {
   "cell_type": "code",
   "execution_count": 320,
   "metadata": {},
   "outputs": [],
   "source": [
    "Input_conv2 = tf.keras.layers.Input((238,356,1))\n",
    "Out1_conv2 = conv2_layer(Input_conv2,activation='linear',outname='coeffs')\n",
    "Out2_conv2 = conv2_layer(Input_conv2,activation='relu',outname='wl')\n",
    "Out3_conv2 = conv2_layer(Input_conv2,activation='relu',outname='pos')\n",
    "\n",
    "model_conv2 = tf.keras.Model(inputs = Input_conv2, outputs = [Out1_conv2,Out2_conv2,Out3_conv2])\n",
    "model_conv2.compile(optimizer='adam',\n",
    "              loss='mean_squared_error',\n",
    "             )"
   ]
  },
  {
   "cell_type": "code",
   "execution_count": 323,
   "metadata": {},
   "outputs": [
    {
     "name": "stdout",
     "output_type": "stream",
     "text": [
      "Train on 2000 samples\n",
      "Epoch 1/15\n",
      "2000/2000 [==============================] - 661s 330ms/sample - loss: 2.3722 - coeffs_loss: 0.0530 - wl_loss: 0.0052 - pos_loss: 2.3053\n",
      "Epoch 2/15\n",
      "2000/2000 [==============================] - 651s 325ms/sample - loss: 2.3444 - coeffs_loss: 0.0354 - wl_loss: 0.0082 - pos_loss: 2.3138\n",
      "Epoch 3/15\n",
      "2000/2000 [==============================] - 645s 323ms/sample - loss: 2.2906 - coeffs_loss: 0.0281 - wl_loss: 0.0114 - pos_loss: 2.2449\n",
      "Epoch 4/15\n",
      "2000/2000 [==============================] - 629s 315ms/sample - loss: 2.2802 - coeffs_loss: 0.0250 - wl_loss: 0.0164 - pos_loss: 2.2371\n",
      "Epoch 5/15\n",
      "2000/2000 [==============================] - 627s 314ms/sample - loss: 2.2925 - coeffs_loss: 0.0232 - wl_loss: 0.0195 - pos_loss: 2.2448\n",
      "Epoch 6/15\n",
      "2000/2000 [==============================] - 598s 299ms/sample - loss: 2.2521 - coeffs_loss: 0.0212 - wl_loss: 0.0264 - pos_loss: 2.2035\n",
      "Epoch 7/15\n",
      "2000/2000 [==============================] - 589s 294ms/sample - loss: 2.2328 - coeffs_loss: 0.0194 - wl_loss: 0.0284 - pos_loss: 2.1873\n",
      "Epoch 8/15\n",
      "2000/2000 [==============================] - 599s 299ms/sample - loss: 2.2290 - coeffs_loss: 0.0158 - wl_loss: 0.0291 - pos_loss: 2.1764\n",
      "Epoch 9/15\n",
      "2000/2000 [==============================] - 605s 303ms/sample - loss: 2.2154 - coeffs_loss: 0.0178 - wl_loss: 0.0413 - pos_loss: 2.1487\n",
      "Epoch 10/15\n",
      "2000/2000 [==============================] - 593s 296ms/sample - loss: 2.2084 - coeffs_loss: 0.0230 - wl_loss: 0.0363 - pos_loss: 2.1496\n",
      "Epoch 11/15\n",
      "2000/2000 [==============================] - 601s 300ms/sample - loss: 2.2279 - coeffs_loss: 0.0262 - wl_loss: 0.0511 - pos_loss: 2.1427\n",
      "Epoch 12/15\n",
      "2000/2000 [==============================] - 601s 301ms/sample - loss: 2.2327 - coeffs_loss: 0.0278 - wl_loss: 0.0447 - pos_loss: 2.1688\n",
      "Epoch 13/15\n",
      "2000/2000 [==============================] - 604s 302ms/sample - loss: 2.2415 - coeffs_loss: 0.0316 - wl_loss: 0.0351 - pos_loss: 2.1582\n",
      "Epoch 14/15\n",
      "2000/2000 [==============================] - 598s 299ms/sample - loss: 2.2658 - coeffs_loss: 0.0394 - wl_loss: 0.0345 - pos_loss: 2.1914\n",
      "Epoch 15/15\n",
      "2000/2000 [==============================] - 599s 300ms/sample - loss: 2.2711 - coeffs_loss: 0.0470 - wl_loss: 0.0290 - pos_loss: 2.1989\n"
     ]
    },
    {
     "data": {
      "text/plain": [
       "<tensorflow.python.keras.callbacks.History at 0xbf8f485f8>"
      ]
     },
     "execution_count": 323,
     "metadata": {},
     "output_type": "execute_result"
    }
   ],
   "source": [
    "model_conv2.fit(im_data,[outputs1,outputs2log,outputs3log],epochs=15,callbacks=[tensorboard_callback])"
   ]
  },
  {
   "cell_type": "code",
   "execution_count": 324,
   "metadata": {},
   "outputs": [
    {
     "data": {
      "image/png": "[encoded data removed]",
      "text/plain": [
       "<Figure size 432x288 with 1 Axes>"
      ]
     },
     "metadata": {
      "needs_background": "light"
     },
     "output_type": "display_data"
    },
    {
     "data": {
      "image/png": "[encoded data removed]",
      "text/plain": [
       "<Figure size 432x288 with 1 Axes>"
      ]
     },
     "metadata": {
      "needs_background": "light"
     },
     "output_type": "display_data"
    },
    {
     "data": {
      "image/png": "[encoded data removed]",
      "text/plain": [
       "<Figure size 432x288 with 1 Axes>"
      ]
     },
     "metadata": {
      "needs_background": "light"
     },
     "output_type": "display_data"
    },
    {
     "data": {
      "image/png": "[encoded data removed]",
      "text/plain": [
       "<Figure size 432x288 with 1 Axes>"
      ]
     },
     "metadata": {
      "needs_background": "light"
     },
     "output_type": "display_data"
    },
    {
     "data": {
      "image/png": "[encoded data removed]",
      "text/plain": [
       "<Figure size 432x288 with 1 Axes>"
      ]
     },
     "metadata": {
      "needs_background": "light"
     },
     "output_type": "display_data"
    },
    {
     "data": {
      "image/png": "[encoded data removed]",
      "text/plain": [
       "<Figure size 432x288 with 1 Axes>"
      ]
     },
     "metadata": {
      "needs_background": "light"
     },
     "output_type": "display_data"
    },
    {
     "data": {
      "image/png": "[encoded data removed]",
      "text/plain": [
       "<Figure size 432x288 with 1 Axes>"
      ]
     },
     "metadata": {
      "needs_background": "light"
     },
     "output_type": "display_data"
    },
    {
     "data": {
      "image/png": "[encoded data removed]",
      "text/plain": [
       "<Figure size 432x288 with 1 Axes>"
      ]
     },
     "metadata": {
      "needs_background": "light"
     },
     "output_type": "display_data"
    },
    {
     "data": {
      "image/png": "[encoded data removed]",
      "text/plain": [
       "<Figure size 432x288 with 1 Axes>"
      ]
     },
     "metadata": {
      "needs_background": "light"
     },
     "output_type": "display_data"
    },
    {
     "data": {
      "image/png": "[encoded data removed]",
      "text/plain": [
       "<Figure size 432x288 with 1 Axes>"
      ]
     },
     "metadata": {
      "needs_background": "light"
     },
     "output_type": "display_data"
    },
    {
     "data": {
      "image/png": "[encoded data removed]",
      "text/plain": [
       "<Figure size 432x288 with 1 Axes>"
      ]
     },
     "metadata": {
      "needs_background": "light"
     },
     "output_type": "display_data"
    },
    {
     "data": {
      "image/png": "[encoded data removed]",
      "text/plain": [
       "<Figure size 432x288 with 1 Axes>"
      ]
     },
     "metadata": {
      "needs_background": "light"
     },
     "output_type": "display_data"
    },
    {
     "data": {
      "image/png": "[encoded data removed]",
      "text/plain": [
       "<Figure size 432x288 with 1 Axes>"
      ]
     },
     "metadata": {
      "needs_background": "light"
     },
     "output_type": "display_data"
    },
    {
     "data": {
      "image/png": "[encoded data removed]",
      "text/plain": [
       "<Figure size 432x288 with 1 Axes>"
      ]
     },
     "metadata": {
      "needs_background": "light"
     },
     "output_type": "display_data"
    },
    {
     "data": {
      "image/png": "[encoded data removed]",
      "text/plain": [
       "<Figure size 432x288 with 1 Axes>"
      ]
     },
     "metadata": {
      "needs_background": "light"
     },
     "output_type": "display_data"
    }
   ],
   "source": [
    "for i in range(0,15):\n",
    "    plt.figure()\n",
    "    plt.plot(plot_outputs(outputs1[i],outputs2log[i],outputs3log[i]))\n",
    "    sample_input = im_data[i:i+1][0].copy()\n",
    "    #random.shuffle(sample_input)\n",
    "    sample_input = np.expand_dims(sample_input,0)\n",
    "    plt.plot(plot_outputs(*[x[0] for x in model_conv2.predict(sample_input)]))"
   ]
  },
  {
   "cell_type": "code",
   "execution_count": null,
   "metadata": {},
   "outputs": [],
   "source": []
  }
 ],
 "metadata": {
  "kernelspec": {
   "display_name": "Python 3",
   "language": "python",
   "name": "python3"
  },
  "language_info": {
   "codemirror_mode": {
    "name": "ipython",
    "version": 3
   },
   "file_extension": ".py",
   "mimetype": "text/x-python",
   "name": "python",
   "nbconvert_exporter": "python",
   "pygments_lexer": "ipython3",
   "version": "3.6.8"
  }
 },
 "nbformat": 4,
 "nbformat_minor": 2
}
