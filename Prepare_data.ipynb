{
 "cells": [
  {
   "cell_type": "code",
   "execution_count": 1,
   "metadata": {},
   "outputs": [],
   "source": [
    "import gudhi as gd\n",
    "import numpy as np\n",
    "import matplotlib.pyplot as plt\n",
    "import pywt\n",
    "import tensorflow as tf\n",
    "import pickle\n",
    "import random as random"
   ]
  },
  {
   "cell_type": "code",
   "execution_count": 2,
   "metadata": {},
   "outputs": [],
   "source": [
    "%load_ext tensorboard"
   ]
  },
  {
   "cell_type": "markdown",
   "metadata": {},
   "source": [
    "**Create data set with circles in random positions**"
   ]
  },
  {
   "cell_type": "code",
   "execution_count": 3,
   "metadata": {},
   "outputs": [],
   "source": [
    "def circle(center,radius):\n",
    "    circ = np.vstack([radius*np.array([np.cos(theta),np.sin(theta)]) + center for theta in np.linspace(0,2*np.pi,30)])\n",
    "    return circ\n",
    "\n",
    "#truncate where it's zero, then round to next highest power of 2\n",
    "def get_trunc_ind(arr):\n",
    "    for i,_ in enumerate(arr):\n",
    "        if np.all(arr[i:] == np.zeros(len(arr[i:]))):\n",
    "            return int(2**(np.ceil(np.log(i)/np.log(2))))\n",
    "    return len(arr)\n",
    "\n",
    "def get_len_and_pos(ind,arr):\n",
    "    #assume ind > 0\n",
    "    n = np.log(len(arr))/np.log(2)\n",
    "    wavelength = 2**(n-int((np.log(ind)/np.log(2))))\n",
    "    pos = (ind-2**(int(np.log(ind)/np.log(2))))*wavelength\n",
    "    return int(wavelength),int(pos)\n",
    "\n",
    "def get_output(max_data,all_coeffs):\n",
    "    coeff,ind = max_data\n",
    "    if ind == 0:\n",
    "        return coeff/np.sqrt(len(all_coeffs)),len(all_coeffs),0\n",
    "    else:\n",
    "        wl, pos = get_len_and_pos(ind,all_coeffs)\n",
    "        return coeff/np.sqrt(wl),wl,pos\n",
    "    \n",
    "def convert_outputs(x):\n",
    "    if x == 0:\n",
    "        return 0\n",
    "    else:\n",
    "        return np.log(x)/np.log(2)\n",
    "    \n",
    "def pad_and_add(x,y):\n",
    "    if len(x) >= len(y):\n",
    "        y = np.pad(y,(0,len(x)-len(y)),'constant',constant_values=0)\n",
    "    else:\n",
    "        x = np.pad(x,(0,len(y)-len(x)),'constant',constant_values=0)\n",
    "    return x + y\n",
    "\n",
    "def plot_outputs(output1,output2,output3):\n",
    "    func = np.zeros(1)\n",
    "    out2 = np.round(output2)\n",
    "    out3 = np.round(output3)\n",
    "    for i,coeff in enumerate(output1[:-1]):\n",
    "        wl = 2**int(np.round(output2[i]))\n",
    "        \n",
    "        temppos = int(np.round(output3[i]))\n",
    "        if temppos == 0:\n",
    "            pos = 0\n",
    "        else:\n",
    "            pos = 2**temppos\n",
    "        \n",
    "        to_add = np.hstack([np.zeros(pos),coeff*np.ones(wl//2),(-1)*coeff*np.ones(wl//2)])\n",
    "        func = pad_and_add(func,to_add)\n",
    "    func += output1[-1]\n",
    "    return func\n",
    "    "
   ]
  },
  {
   "cell_type": "code",
   "execution_count": 4,
   "metadata": {},
   "outputs": [],
   "source": [
    "try:\n",
    "    with open('outputs.p','rb') as f:\n",
    "        outputs = pickle.load(f)\n",
    "    \n",
    "    with open('inputs.p','rb') as f:\n",
    "        inputs = pickle.load(f)\n",
    "    \n",
    "except Exception as e:\n",
    "    inputs = []\n",
    "    outputs = []\n",
    "    for i in range(0,2000):\n",
    "        centers = np.random.random(size=(10,2))\n",
    "        circle_pts = np.vstack([circle(center,0.5*np.random.random()) for center in centers])\n",
    "        inputs.append(circle_pts)\n",
    "        rc = gd.RipsComplex(circle_pts)\n",
    "        st = rc.create_simplex_tree(max_dimension=2)\n",
    "        st.persistence()\n",
    "        temp = st.get_filtration()\n",
    "        filtrants = sorted(set({x for _,x in temp}))\n",
    "\n",
    "        betti_data = np.array([st.persistent_betti_numbers(start,end) for start,end in zip(filtrants[:-1],filtrants[1:])])\n",
    "        trunced_arr = betti_data[:get_trunc_ind(betti_data[:,1]),1]\n",
    "\n",
    "        coeffs = pywt.wavedec(trunced_arr,wavelet='db1',level=None)\n",
    "        all_coeffs = np.hstack(coeffs)\n",
    "        max_inds = np.argpartition(np.abs(all_coeffs),-10)[-10:]\n",
    "        sorted_max_data = [(x,y) for x,y in sorted(list(zip(all_coeffs[max_inds],max_inds)))]\n",
    "        output = np.array([get_output(x,all_coeffs) for x in sorted_max_data])\n",
    "        #output = output/np.max(output,axis=0)\n",
    "        #output = output.flatten()\n",
    "        outputs.append(output)"
   ]
  },
  {
   "cell_type": "code",
   "execution_count": null,
   "metadata": {},
   "outputs": [],
   "source": [
    "#with open('outputs.p','wb') as f:\n",
    "#    pickle.dump(outputs,f)\n",
    "    \n",
    "#with open('inputs.p','wb') as f:\n",
    "#    pickle.dump(inputs,f)"
   ]
  },
  {
   "cell_type": "code",
   "execution_count": 5,
   "metadata": {},
   "outputs": [],
   "source": [
    "arr_inputs = np.array(inputs)"
   ]
  },
  {
   "cell_type": "code",
   "execution_count": 6,
   "metadata": {},
   "outputs": [],
   "source": [
    "outputs1 = np.array([x[:,0] for x in outputs])\n",
    "outputs2 = np.array([x[:,1] for x in outputs])\n",
    "outputs3 = np.array([x[:,2] for x in outputs])"
   ]
  },
  {
   "cell_type": "code",
   "execution_count": 8,
   "metadata": {},
   "outputs": [],
   "source": [
    "outputs2log = np.array([[convert_outputs(x) for x in arr] for arr in outputs2])\n",
    "outputs3log = np.array([[convert_outputs(x) for x in arr] for arr in outputs3])"
   ]
  },
  {
   "cell_type": "code",
   "execution_count": 29,
   "metadata": {},
   "outputs": [],
   "source": [
    "Input = tf.keras.layers.Input((300,2))\n",
    "\n",
    "Stack1Start = tf.keras.layers.Flatten()(Input)\n",
    "Stack1Dense = tf.keras.layers.Dense(40, activation='relu')(Stack1Start)\n",
    "Stack1Drop = tf.keras.layers.Dropout(0.2)(Stack1Dense)\n",
    "Stack1Dense2 = tf.keras.layers.Dense(20)(Stack1Drop)\n",
    "Stack1Out = tf.keras.layers.Dense(10, activation='linear')(Stack1Dense2)\n",
    "\n",
    "Stack2Start = tf.keras.layers.Flatten()(Input)\n",
    "Stack2Dense = tf.keras.layers.Dense(40, activation='relu')(Stack2Start)\n",
    "Stack2Drop = tf.keras.layers.Dropout(0.2)(Stack2Dense)\n",
    "Stack2Dense2 = tf.keras.layers.Dense(20)(Stack2Drop)\n",
    "Stack2Out = tf.keras.layers.Dense(10, activation='relu')(Stack2Dense2)\n",
    "\n",
    "Stack3Start = tf.keras.layers.Flatten()(Input)\n",
    "Stack3Dense = tf.keras.layers.Dense(40, activation='relu')(Stack3Start)\n",
    "Stack3Drop = tf.keras.layers.Dropout(0.2)(Stack3Dense)\n",
    "Stack3Dense2 = tf.keras.layers.Dense(20)(Stack3Drop)\n",
    "Stack3Out = tf.keras.layers.Dense(10, activation='relu')(Stack3Dense2)\n",
    "\n",
    "model = tf.keras.Model(inputs = Input, outputs = [Stack1Out,Stack2Out,Stack3Out])\n",
    "model.compile(optimizer='adam',\n",
    "              loss='mean_squared_error',\n",
    "             )#metrics=['accuracy'])"
   ]
  },
  {
   "cell_type": "code",
   "execution_count": 36,
   "metadata": {},
   "outputs": [],
   "source": [
    "logdir=\"logs/fit/\"\n",
    "tensorboard_callback = tf.keras.callbacks.TensorBoard(log_dir=logdir)"
   ]
  },
  {
   "cell_type": "code",
   "execution_count": 38,
   "metadata": {},
   "outputs": [
    {
     "name": "stdout",
     "output_type": "stream",
     "text": [
      "Train on 2000 samples\n",
      "Epoch 1/100\n",
      "2000/2000 [==============================] - 0s 123us/sample - loss: 13.5251 - dense_17_loss: 1.4062 - dense_20_loss: 0.9415 - dense_23_loss: 11.1346\n",
      "Epoch 2/100\n",
      "2000/2000 [==============================] - 0s 82us/sample - loss: 13.5787 - dense_17_loss: 1.4135 - dense_20_loss: 0.9389 - dense_23_loss: 11.2060\n",
      "Epoch 3/100\n",
      "2000/2000 [==============================] - 0s 81us/sample - loss: 13.5554 - dense_17_loss: 1.4430 - dense_20_loss: 0.9371 - dense_23_loss: 11.1695\n",
      "Epoch 4/100\n",
      "2000/2000 [==============================] - 0s 79us/sample - loss: 13.5646 - dense_17_loss: 1.4242 - dense_20_loss: 0.9360 - dense_23_loss: 11.2016\n",
      "Epoch 5/100\n",
      "2000/2000 [==============================] - 0s 78us/sample - loss: 13.4689 - dense_17_loss: 1.4115 - dense_20_loss: 0.9387 - dense_23_loss: 11.1179\n",
      "Epoch 6/100\n",
      "2000/2000 [==============================] - 0s 82us/sample - loss: 13.6072 - dense_17_loss: 1.4060 - dense_20_loss: 0.9382 - dense_23_loss: 11.2664\n",
      "Epoch 7/100\n",
      "2000/2000 [==============================] - 0s 84us/sample - loss: 13.5903 - dense_17_loss: 1.4212 - dense_20_loss: 0.9459 - dense_23_loss: 11.2523\n",
      "Epoch 8/100\n",
      "2000/2000 [==============================] - 0s 80us/sample - loss: 13.5493 - dense_17_loss: 1.4153 - dense_20_loss: 0.9381 - dense_23_loss: 11.2039\n",
      "Epoch 9/100\n",
      "2000/2000 [==============================] - 0s 81us/sample - loss: 13.5019 - dense_17_loss: 1.4061 - dense_20_loss: 0.9373 - dense_23_loss: 11.1612\n",
      "Epoch 10/100\n",
      "2000/2000 [==============================] - 0s 84us/sample - loss: 13.5803 - dense_17_loss: 1.4291 - dense_20_loss: 0.9322 - dense_23_loss: 11.2239\n",
      "Epoch 11/100\n",
      "2000/2000 [==============================] - 0s 80us/sample - loss: 13.5497 - dense_17_loss: 1.4234 - dense_20_loss: 0.9356 - dense_23_loss: 11.2113\n",
      "Epoch 12/100\n",
      "2000/2000 [==============================] - 0s 83us/sample - loss: 13.5775 - dense_17_loss: 1.4371 - dense_20_loss: 0.9313 - dense_23_loss: 11.2152\n",
      "Epoch 13/100\n",
      "2000/2000 [==============================] - 0s 91us/sample - loss: 13.5317 - dense_17_loss: 1.4264 - dense_20_loss: 0.9300 - dense_23_loss: 11.1763\n",
      "Epoch 14/100\n",
      "2000/2000 [==============================] - 0s 97us/sample - loss: 13.5336 - dense_17_loss: 1.4195 - dense_20_loss: 0.9347 - dense_23_loss: 11.1539\n",
      "Epoch 15/100\n",
      "2000/2000 [==============================] - 0s 85us/sample - loss: 13.5335 - dense_17_loss: 1.4090 - dense_20_loss: 0.9330 - dense_23_loss: 11.1824\n",
      "Epoch 16/100\n",
      "2000/2000 [==============================] - 0s 87us/sample - loss: 13.5305 - dense_17_loss: 1.4065 - dense_20_loss: 0.9355 - dense_23_loss: 11.1996\n",
      "Epoch 17/100\n",
      "2000/2000 [==============================] - 0s 96us/sample - loss: 13.4872 - dense_17_loss: 1.4119 - dense_20_loss: 0.9348 - dense_23_loss: 11.1210\n",
      "Epoch 18/100\n",
      "2000/2000 [==============================] - 0s 96us/sample - loss: 13.5075 - dense_17_loss: 1.4225 - dense_20_loss: 0.9322 - dense_23_loss: 11.1384\n",
      "Epoch 19/100\n",
      "2000/2000 [==============================] - 0s 84us/sample - loss: 13.5353 - dense_17_loss: 1.4110 - dense_20_loss: 0.9319 - dense_23_loss: 11.1813\n",
      "Epoch 20/100\n",
      "2000/2000 [==============================] - 0s 91us/sample - loss: 13.4485 - dense_17_loss: 1.4236 - dense_20_loss: 0.9317 - dense_23_loss: 11.0881\n",
      "Epoch 21/100\n",
      "2000/2000 [==============================] - 0s 87us/sample - loss: 13.4776 - dense_17_loss: 1.4013 - dense_20_loss: 0.9341 - dense_23_loss: 11.1268\n",
      "Epoch 22/100\n",
      "2000/2000 [==============================] - 0s 83us/sample - loss: 13.5409 - dense_17_loss: 1.4261 - dense_20_loss: 0.9271 - dense_23_loss: 11.1841\n",
      "Epoch 23/100\n",
      "2000/2000 [==============================] - 0s 82us/sample - loss: 13.4555 - dense_17_loss: 1.4044 - dense_20_loss: 0.9307 - dense_23_loss: 11.1175\n",
      "Epoch 24/100\n",
      "2000/2000 [==============================] - 0s 76us/sample - loss: 13.5126 - dense_17_loss: 1.4131 - dense_20_loss: 0.9291 - dense_23_loss: 11.1709\n",
      "Epoch 25/100\n",
      "2000/2000 [==============================] - 0s 86us/sample - loss: 13.5292 - dense_17_loss: 1.4008 - dense_20_loss: 0.9286 - dense_23_loss: 11.1928\n",
      "Epoch 26/100\n",
      "2000/2000 [==============================] - 0s 87us/sample - loss: 13.4855 - dense_17_loss: 1.4069 - dense_20_loss: 0.9363 - dense_23_loss: 11.1497\n",
      "Epoch 27/100\n",
      "2000/2000 [==============================] - 0s 90us/sample - loss: 13.4881 - dense_17_loss: 1.4056 - dense_20_loss: 0.9252 - dense_23_loss: 11.1446\n",
      "Epoch 28/100\n",
      "2000/2000 [==============================] - 0s 96us/sample - loss: 13.4614 - dense_17_loss: 1.4086 - dense_20_loss: 0.9249 - dense_23_loss: 11.1200\n",
      "Epoch 29/100\n",
      "2000/2000 [==============================] - 0s 119us/sample - loss: 13.5130 - dense_17_loss: 1.4096 - dense_20_loss: 0.9388 - dense_23_loss: 11.1604\n",
      "Epoch 30/100\n",
      "2000/2000 [==============================] - 0s 111us/sample - loss: 13.5570 - dense_17_loss: 1.4335 - dense_20_loss: 0.9274 - dense_23_loss: 11.1976\n",
      "Epoch 31/100\n",
      "2000/2000 [==============================] - 0s 105us/sample - loss: 13.4237 - dense_17_loss: 1.4036 - dense_20_loss: 0.9274 - dense_23_loss: 11.1052\n",
      "Epoch 32/100\n",
      "2000/2000 [==============================] - 0s 122us/sample - loss: 13.4658 - dense_17_loss: 1.4125 - dense_20_loss: 0.9257 - dense_23_loss: 11.1056\n",
      "Epoch 33/100\n",
      "2000/2000 [==============================] - 0s 68us/sample - loss: 13.5241 - dense_17_loss: 1.4118 - dense_20_loss: 0.9288 - dense_23_loss: 11.1893\n",
      "Epoch 34/100\n",
      "2000/2000 [==============================] - 0s 84us/sample - loss: 13.4904 - dense_17_loss: 1.3987 - dense_20_loss: 0.9273 - dense_23_loss: 11.1890\n",
      "Epoch 35/100\n",
      "2000/2000 [==============================] - 0s 91us/sample - loss: 13.5032 - dense_17_loss: 1.4188 - dense_20_loss: 0.9282 - dense_23_loss: 11.1724\n",
      "Epoch 36/100\n",
      "2000/2000 [==============================] - 0s 70us/sample - loss: 13.4007 - dense_17_loss: 1.4130 - dense_20_loss: 0.9264 - dense_23_loss: 11.0855\n",
      "Epoch 37/100\n",
      "2000/2000 [==============================] - 0s 88us/sample - loss: 13.5331 - dense_17_loss: 1.4190 - dense_20_loss: 0.9259 - dense_23_loss: 11.1981\n",
      "Epoch 38/100\n",
      "2000/2000 [==============================] - 0s 87us/sample - loss: 13.4859 - dense_17_loss: 1.4048 - dense_20_loss: 0.9255 - dense_23_loss: 11.1833\n",
      "Epoch 39/100\n",
      "2000/2000 [==============================] - 0s 91us/sample - loss: 13.4484 - dense_17_loss: 1.4059 - dense_20_loss: 0.9266 - dense_23_loss: 11.1177\n",
      "Epoch 40/100\n",
      "2000/2000 [==============================] - 0s 78us/sample - loss: 13.5531 - dense_17_loss: 1.4005 - dense_20_loss: 0.9290 - dense_23_loss: 11.2167\n",
      "Epoch 41/100\n",
      "2000/2000 [==============================] - 0s 74us/sample - loss: 13.4967 - dense_17_loss: 1.4129 - dense_20_loss: 0.9250 - dense_23_loss: 11.1612\n",
      "Epoch 42/100\n",
      "2000/2000 [==============================] - 0s 68us/sample - loss: 13.4361 - dense_17_loss: 1.4047 - dense_20_loss: 0.9236 - dense_23_loss: 11.1083\n",
      "Epoch 43/100\n",
      "2000/2000 [==============================] - 0s 66us/sample - loss: 13.4574 - dense_17_loss: 1.4146 - dense_20_loss: 0.9276 - dense_23_loss: 11.1358\n",
      "Epoch 44/100\n",
      "2000/2000 [==============================] - 0s 66us/sample - loss: 13.4502 - dense_17_loss: 1.4082 - dense_20_loss: 0.9207 - dense_23_loss: 11.1016\n",
      "Epoch 45/100\n",
      "2000/2000 [==============================] - 0s 71us/sample - loss: 13.4915 - dense_17_loss: 1.4063 - dense_20_loss: 0.9196 - dense_23_loss: 11.1518\n",
      "Epoch 46/100\n",
      "2000/2000 [==============================] - 0s 67us/sample - loss: 13.4909 - dense_17_loss: 1.4089 - dense_20_loss: 0.9244 - dense_23_loss: 11.1714\n",
      "Epoch 47/100\n",
      "2000/2000 [==============================] - 0s 66us/sample - loss: 13.4620 - dense_17_loss: 1.3997 - dense_20_loss: 0.9165 - dense_23_loss: 11.1218\n",
      "Epoch 48/100\n",
      "2000/2000 [==============================] - 0s 77us/sample - loss: 13.4477 - dense_17_loss: 1.4004 - dense_20_loss: 0.9219 - dense_23_loss: 11.1454\n",
      "Epoch 49/100\n",
      "2000/2000 [==============================] - 0s 110us/sample - loss: 13.4609 - dense_17_loss: 1.4063 - dense_20_loss: 0.9265 - dense_23_loss: 11.1304\n",
      "Epoch 50/100\n",
      "2000/2000 [==============================] - 0s 93us/sample - loss: 13.4923 - dense_17_loss: 1.4023 - dense_20_loss: 0.9243 - dense_23_loss: 11.1592\n",
      "Epoch 51/100\n",
      "2000/2000 [==============================] - 0s 84us/sample - loss: 13.4593 - dense_17_loss: 1.4024 - dense_20_loss: 0.9255 - dense_23_loss: 11.1328\n",
      "Epoch 52/100\n",
      "2000/2000 [==============================] - 0s 76us/sample - loss: 13.4930 - dense_17_loss: 1.4067 - dense_20_loss: 0.9253 - dense_23_loss: 11.1766\n",
      "Epoch 53/100\n",
      "2000/2000 [==============================] - 0s 76us/sample - loss: 13.4438 - dense_17_loss: 1.4107 - dense_20_loss: 0.9168 - dense_23_loss: 11.1082\n",
      "Epoch 54/100\n",
      "2000/2000 [==============================] - 0s 73us/sample - loss: 13.4869 - dense_17_loss: 1.4097 - dense_20_loss: 0.9244 - dense_23_loss: 11.1559\n",
      "Epoch 55/100\n",
      "2000/2000 [==============================] - 0s 73us/sample - loss: 13.5134 - dense_17_loss: 1.4149 - dense_20_loss: 0.9252 - dense_23_loss: 11.1610\n",
      "Epoch 56/100\n",
      "2000/2000 [==============================] - 0s 70us/sample - loss: 13.4820 - dense_17_loss: 1.4044 - dense_20_loss: 0.9197 - dense_23_loss: 11.1528\n",
      "Epoch 57/100\n",
      "2000/2000 [==============================] - 0s 68us/sample - loss: 13.4233 - dense_17_loss: 1.3948 - dense_20_loss: 0.9203 - dense_23_loss: 11.0865\n",
      "Epoch 58/100\n",
      "2000/2000 [==============================] - 0s 72us/sample - loss: 13.4447 - dense_17_loss: 1.3942 - dense_20_loss: 0.9280 - dense_23_loss: 11.1079\n",
      "Epoch 59/100\n",
      "2000/2000 [==============================] - 0s 68us/sample - loss: 13.4647 - dense_17_loss: 1.4039 - dense_20_loss: 0.9273 - dense_23_loss: 11.1263\n",
      "Epoch 60/100\n",
      "2000/2000 [==============================] - 0s 66us/sample - loss: 13.4731 - dense_17_loss: 1.4060 - dense_20_loss: 0.9234 - dense_23_loss: 11.1511\n",
      "Epoch 61/100\n",
      "2000/2000 [==============================] - 0s 67us/sample - loss: 13.4654 - dense_17_loss: 1.3965 - dense_20_loss: 0.9239 - dense_23_loss: 11.1344\n",
      "Epoch 62/100\n",
      "2000/2000 [==============================] - 0s 86us/sample - loss: 13.4591 - dense_17_loss: 1.4099 - dense_20_loss: 0.9296 - dense_23_loss: 11.1136\n",
      "Epoch 63/100\n",
      "2000/2000 [==============================] - 0s 106us/sample - loss: 13.4108 - dense_17_loss: 1.4087 - dense_20_loss: 0.9265 - dense_23_loss: 11.0835\n",
      "Epoch 64/100\n",
      "2000/2000 [==============================] - 0s 73us/sample - loss: 13.4601 - dense_17_loss: 1.4070 - dense_20_loss: 0.9262 - dense_23_loss: 11.1290\n",
      "Epoch 65/100\n",
      "2000/2000 [==============================] - 0s 85us/sample - loss: 13.3940 - dense_17_loss: 1.3951 - dense_20_loss: 0.9236 - dense_23_loss: 11.0545\n",
      "Epoch 66/100\n",
      "2000/2000 [==============================] - 0s 92us/sample - loss: 13.3916 - dense_17_loss: 1.3939 - dense_20_loss: 0.9236 - dense_23_loss: 11.0754\n",
      "Epoch 67/100\n",
      "2000/2000 [==============================] - 0s 72us/sample - loss: 13.4533 - dense_17_loss: 1.4148 - dense_20_loss: 0.9203 - dense_23_loss: 11.1502\n",
      "Epoch 68/100\n",
      "2000/2000 [==============================] - 0s 88us/sample - loss: 13.4186 - dense_17_loss: 1.4021 - dense_20_loss: 0.9258 - dense_23_loss: 11.0783\n",
      "Epoch 69/100\n",
      "2000/2000 [==============================] - 0s 68us/sample - loss: 13.5056 - dense_17_loss: 1.4031 - dense_20_loss: 0.9218 - dense_23_loss: 11.1993\n",
      "Epoch 70/100\n",
      "2000/2000 [==============================] - 0s 69us/sample - loss: 13.4834 - dense_17_loss: 1.4011 - dense_20_loss: 0.9210 - dense_23_loss: 11.1381\n",
      "Epoch 71/100\n",
      "2000/2000 [==============================] - 0s 69us/sample - loss: 13.4574 - dense_17_loss: 1.4106 - dense_20_loss: 0.9237 - dense_23_loss: 11.1509\n",
      "Epoch 72/100\n",
      "2000/2000 [==============================] - 0s 83us/sample - loss: 13.4314 - dense_17_loss: 1.3962 - dense_20_loss: 0.9240 - dense_23_loss: 11.1512\n",
      "Epoch 73/100\n",
      "2000/2000 [==============================] - 0s 92us/sample - loss: 13.4239 - dense_17_loss: 1.3905 - dense_20_loss: 0.9249 - dense_23_loss: 11.1224\n",
      "Epoch 74/100\n",
      "2000/2000 [==============================] - 0s 76us/sample - loss: 13.4548 - dense_17_loss: 1.4115 - dense_20_loss: 0.9193 - dense_23_loss: 11.0939\n",
      "Epoch 75/100\n",
      "2000/2000 [==============================] - 0s 78us/sample - loss: 13.4421 - dense_17_loss: 1.3887 - dense_20_loss: 0.9216 - dense_23_loss: 11.1406\n",
      "Epoch 76/100\n",
      "2000/2000 [==============================] - 0s 70us/sample - loss: 13.4297 - dense_17_loss: 1.4024 - dense_20_loss: 0.9243 - dense_23_loss: 11.1128\n",
      "Epoch 77/100\n",
      "2000/2000 [==============================] - 0s 74us/sample - loss: 13.4148 - dense_17_loss: 1.4138 - dense_20_loss: 0.9142 - dense_23_loss: 11.0830\n",
      "Epoch 78/100\n",
      "2000/2000 [==============================] - 0s 74us/sample - loss: 13.3814 - dense_17_loss: 1.3969 - dense_20_loss: 0.9218 - dense_23_loss: 11.0552\n",
      "Epoch 79/100\n",
      "2000/2000 [==============================] - 0s 78us/sample - loss: 13.4536 - dense_17_loss: 1.4076 - dense_20_loss: 0.9185 - dense_23_loss: 11.1207\n",
      "Epoch 80/100\n",
      "2000/2000 [==============================] - 0s 81us/sample - loss: 13.4220 - dense_17_loss: 1.3964 - dense_20_loss: 0.9209 - dense_23_loss: 11.0788\n",
      "Epoch 81/100\n",
      "2000/2000 [==============================] - 0s 76us/sample - loss: 13.3991 - dense_17_loss: 1.3945 - dense_20_loss: 0.9212 - dense_23_loss: 11.0605\n",
      "Epoch 82/100\n",
      "2000/2000 [==============================] - 0s 77us/sample - loss: 13.4643 - dense_17_loss: 1.4004 - dense_20_loss: 0.9138 - dense_23_loss: 11.1553\n",
      "Epoch 83/100\n",
      "2000/2000 [==============================] - 0s 77us/sample - loss: 13.4871 - dense_17_loss: 1.4000 - dense_20_loss: 0.9288 - dense_23_loss: 11.1389\n",
      "Epoch 84/100\n",
      "2000/2000 [==============================] - 0s 79us/sample - loss: 13.3571 - dense_17_loss: 1.4238 - dense_20_loss: 0.9175 - dense_23_loss: 10.9886\n",
      "Epoch 85/100\n",
      "2000/2000 [==============================] - 0s 77us/sample - loss: 13.4089 - dense_17_loss: 1.4026 - dense_20_loss: 0.9193 - dense_23_loss: 11.1139\n",
      "Epoch 86/100\n",
      "2000/2000 [==============================] - 0s 70us/sample - loss: 13.4714 - dense_17_loss: 1.3992 - dense_20_loss: 0.9202 - dense_23_loss: 11.1509\n",
      "Epoch 87/100\n",
      "2000/2000 [==============================] - 0s 67us/sample - loss: 13.4457 - dense_17_loss: 1.4046 - dense_20_loss: 0.9204 - dense_23_loss: 11.1104\n",
      "Epoch 88/100\n",
      "2000/2000 [==============================] - 0s 66us/sample - loss: 13.4680 - dense_17_loss: 1.3992 - dense_20_loss: 0.9243 - dense_23_loss: 11.1387\n",
      "Epoch 89/100\n",
      "2000/2000 [==============================] - 0s 67us/sample - loss: 13.4324 - dense_17_loss: 1.4044 - dense_20_loss: 0.9209 - dense_23_loss: 11.1042\n",
      "Epoch 90/100\n",
      "2000/2000 [==============================] - 0s 67us/sample - loss: 13.3704 - dense_17_loss: 1.4063 - dense_20_loss: 0.9217 - dense_23_loss: 11.0465\n",
      "Epoch 91/100\n",
      "2000/2000 [==============================] - 0s 83us/sample - loss: 13.4475 - dense_17_loss: 1.3936 - dense_20_loss: 0.9204 - dense_23_loss: 11.1347\n",
      "Epoch 92/100\n",
      "2000/2000 [==============================] - 0s 99us/sample - loss: 13.4435 - dense_17_loss: 1.4073 - dense_20_loss: 0.9220 - dense_23_loss: 11.1108\n",
      "Epoch 93/100\n",
      "2000/2000 [==============================] - 0s 78us/sample - loss: 13.4293 - dense_17_loss: 1.4031 - dense_20_loss: 0.9146 - dense_23_loss: 11.1016\n",
      "Epoch 94/100\n",
      "2000/2000 [==============================] - 0s 79us/sample - loss: 13.3464 - dense_17_loss: 1.3978 - dense_20_loss: 0.9183 - dense_23_loss: 11.0255\n",
      "Epoch 95/100\n",
      "2000/2000 [==============================] - 0s 67us/sample - loss: 13.4420 - dense_17_loss: 1.4168 - dense_20_loss: 0.9173 - dense_23_loss: 11.1023\n",
      "Epoch 96/100\n",
      "2000/2000 [==============================] - 0s 83us/sample - loss: 13.4407 - dense_17_loss: 1.4097 - dense_20_loss: 0.9212 - dense_23_loss: 11.1220\n",
      "Epoch 97/100\n",
      "2000/2000 [==============================] - 0s 72us/sample - loss: 13.3883 - dense_17_loss: 1.3948 - dense_20_loss: 0.9190 - dense_23_loss: 11.0857\n",
      "Epoch 98/100\n",
      "2000/2000 [==============================] - 0s 99us/sample - loss: 13.3418 - dense_17_loss: 1.4096 - dense_20_loss: 0.9259 - dense_23_loss: 10.99030s - loss: 13.6126 - dense_17_loss: 1.4165 - dense_20_loss: 0.9372 - dense_23_loss: 11.25\n",
      "Epoch 99/100\n",
      "2000/2000 [==============================] - 0s 74us/sample - loss: 13.4299 - dense_17_loss: 1.3997 - dense_20_loss: 0.9123 - dense_23_loss: 11.1208\n",
      "Epoch 100/100\n",
      "2000/2000 [==============================] - 0s 70us/sample - loss: 13.3775 - dense_17_loss: 1.4034 - dense_20_loss: 0.9185 - dense_23_loss: 11.0624\n"
     ]
    },
    {
     "data": {
      "text/plain": [
       "<tensorflow.python.keras.callbacks.History at 0xb34c40e48>"
      ]
     },
     "execution_count": 38,
     "metadata": {},
     "output_type": "execute_result"
    }
   ],
   "source": [
    "model.fit(arr_inputs,[outputs1,outputs2log,outputs3log],epochs=100,callbacks=[tensorboard_callback])"
   ]
  },
  {
   "cell_type": "code",
   "execution_count": 39,
   "metadata": {},
   "outputs": [
    {
     "data": {
      "text/html": [
       "\n",
       "      <iframe id=\"tensorboard-frame-21e54f6a2b16c474\" width=\"100%\" height=\"800\" frameborder=\"0\">\n",
       "      </iframe>\n",
       "      <script>\n",
       "        (function() {\n",
       "          const frame = document.getElementById(\"tensorboard-frame-21e54f6a2b16c474\");\n",
       "          const url = new URL(\"/\", window.location);\n",
       "          url.port = 6006;\n",
       "          frame.src = url;\n",
       "        })();\n",
       "      </script>\n",
       "  "
      ],
      "text/plain": [
       "<IPython.core.display.HTML object>"
      ]
     },
     "metadata": {},
     "output_type": "display_data"
    }
   ],
   "source": [
    "%tensorboard --logdir logs"
   ]
  },
  {
   "cell_type": "code",
   "execution_count": 19,
   "metadata": {},
   "outputs": [
    {
     "data": {
      "text/plain": [
       "[array([[-5.0562468 , -3.3281987 , -2.3604817 ,  0.13362396,  1.4007106 ,\n",
       "          1.9455361 ,  2.2949924 ,  2.752417  ,  3.0000482 ,  3.5831742 ]],\n",
       "       dtype=float32),\n",
       " array([[10.380092,  9.931844,  9.375606,  9.984414, 10.7932  , 11.108236,\n",
       "         11.887634, 12.998266, 13.768082, 13.852848]], dtype=float32),\n",
       " array([[ 9.0930969e-02,  1.4771514e+00,  7.3636351e+00,  9.8739452e+00,\n",
       "          1.0168003e+01,  8.9604015e+00,  5.7258363e+00,  4.4029877e-01,\n",
       "         -6.2023308e-03, -1.4372304e-02]], dtype=float32)]"
      ]
     },
     "execution_count": 19,
     "metadata": {},
     "output_type": "execute_result"
    }
   ],
   "source": [
    "model.predict(arr_inputs[0:1,:,:])"
   ]
  },
  {
   "cell_type": "code",
   "execution_count": 31,
   "metadata": {},
   "outputs": [
    {
     "data": {
      "image/png": "[encoded data removed]",
      "text/plain": [
       "<Figure size 432x288 with 1 Axes>"
      ]
     },
     "metadata": {
      "needs_background": "light"
     },
     "output_type": "display_data"
    },
    {
     "data": {
      "image/png": "[encoded data removed]",
      "text/plain": [
       "<Figure size 432x288 with 1 Axes>"
      ]
     },
     "metadata": {
      "needs_background": "light"
     },
     "output_type": "display_data"
    },
    {
     "data": {
      "image/png": "[encoded data removed]",
      "text/plain": [
       "<Figure size 432x288 with 1 Axes>"
      ]
     },
     "metadata": {
      "needs_background": "light"
     },
     "output_type": "display_data"
    },
    {
     "data": {
      "image/png": "[encoded data removed]",
      "text/plain": [
       "<Figure size 432x288 with 1 Axes>"
      ]
     },
     "metadata": {
      "needs_background": "light"
     },
     "output_type": "display_data"
    },
    {
     "data": {
      "image/png": "[encoded data removed]",
      "text/plain": [
       "<Figure size 432x288 with 1 Axes>"
      ]
     },
     "metadata": {
      "needs_background": "light"
     },
     "output_type": "display_data"
    },
    {
     "data": {
      "image/png": "[encoded data removed]",
      "text/plain": [
       "<Figure size 432x288 with 1 Axes>"
      ]
     },
     "metadata": {
      "needs_background": "light"
     },
     "output_type": "display_data"
    },
    {
     "data": {
      "image/png": "[encoded data removed]",
      "text/plain": [
       "<Figure size 432x288 with 1 Axes>"
      ]
     },
     "metadata": {
      "needs_background": "light"
     },
     "output_type": "display_data"
    },
    {
     "data": {
      "image/png": "[encoded data removed]",
      "text/plain": [
       "<Figure size 432x288 with 1 Axes>"
      ]
     },
     "metadata": {
      "needs_background": "light"
     },
     "output_type": "display_data"
    },
    {
     "data": {
      "image/png": "[encoded data removed]",
      "text/plain": [
       "<Figure size 432x288 with 1 Axes>"
      ]
     },
     "metadata": {
      "needs_background": "light"
     },
     "output_type": "display_data"
    },
    {
     "data": {
      "image/png": "[encoded data removed]",
      "text/plain": [
       "<Figure size 432x288 with 1 Axes>"
      ]
     },
     "metadata": {
      "needs_background": "light"
     },
     "output_type": "display_data"
    }
   ],
   "source": [
    "for i in range(30,40):\n",
    "    plt.figure()\n",
    "    plt.plot(plot_outputs(outputs1[i],outputs2log[i],outputs3log[i]))\n",
    "    sample_input = arr_inputs[i:i+1][0]\n",
    "    random.shuffle(sample_input)\n",
    "    sample_input = np.expand_dims(sample_input,0)\n",
    "    plt.plot(plot_outputs(*[x[0] for x in model.predict(sample_input)]))"
   ]
  },
  {
   "cell_type": "code",
   "execution_count": 32,
   "metadata": {},
   "outputs": [
    {
     "name": "stdout",
     "output_type": "stream",
     "text": [
      "Model: \"model_2\"\n",
      "__________________________________________________________________________________________________\n",
      "Layer (type)                    Output Shape         Param #     Connected to                     \n",
      "==================================================================================================\n",
      "input_3 (InputLayer)            [(None, 300, 2)]     0                                            \n",
      "__________________________________________________________________________________________________\n",
      "flatten_6 (Flatten)             (None, 600)          0           input_3[0][0]                    \n",
      "__________________________________________________________________________________________________\n",
      "flatten_7 (Flatten)             (None, 600)          0           input_3[0][0]                    \n",
      "__________________________________________________________________________________________________\n",
      "flatten_8 (Flatten)             (None, 600)          0           input_3[0][0]                    \n",
      "__________________________________________________________________________________________________\n",
      "dense_15 (Dense)                (None, 40)           24040       flatten_6[0][0]                  \n",
      "__________________________________________________________________________________________________\n",
      "dense_18 (Dense)                (None, 40)           24040       flatten_7[0][0]                  \n",
      "__________________________________________________________________________________________________\n",
      "dense_21 (Dense)                (None, 40)           24040       flatten_8[0][0]                  \n",
      "__________________________________________________________________________________________________\n",
      "dropout_6 (Dropout)             (None, 40)           0           dense_15[0][0]                   \n",
      "__________________________________________________________________________________________________\n",
      "dropout_7 (Dropout)             (None, 40)           0           dense_18[0][0]                   \n",
      "__________________________________________________________________________________________________\n",
      "dropout_8 (Dropout)             (None, 40)           0           dense_21[0][0]                   \n",
      "__________________________________________________________________________________________________\n",
      "dense_16 (Dense)                (None, 20)           820         dropout_6[0][0]                  \n",
      "__________________________________________________________________________________________________\n",
      "dense_19 (Dense)                (None, 20)           820         dropout_7[0][0]                  \n",
      "__________________________________________________________________________________________________\n",
      "dense_22 (Dense)                (None, 20)           820         dropout_8[0][0]                  \n",
      "__________________________________________________________________________________________________\n",
      "dense_17 (Dense)                (None, 10)           210         dense_16[0][0]                   \n",
      "__________________________________________________________________________________________________\n",
      "dense_20 (Dense)                (None, 10)           210         dense_19[0][0]                   \n",
      "__________________________________________________________________________________________________\n",
      "dense_23 (Dense)                (None, 10)           210         dense_22[0][0]                   \n",
      "==================================================================================================\n",
      "Total params: 75,210\n",
      "Trainable params: 75,210\n",
      "Non-trainable params: 0\n",
      "__________________________________________________________________________________________________\n"
     ]
    }
   ],
   "source": [
    "model.summary()"
   ]
  },
  {
   "cell_type": "code",
   "execution_count": null,
   "metadata": {},
   "outputs": [],
   "source": [
    "len_seq = len(all_coeffs)\n",
    "func = np.zeros(len_seq)\n",
    "\n",
    "for coeff,ind in sorted_max_data:\n",
    "    if ind == 0:\n",
    "        func += coeff/np.sqrt(len(all_coeffs))\n",
    "    else:\n",
    "        wl, pos = get_len_and_pos(ind,all_coeffs)\n",
    "        normalizer = 1/np.sqrt(wl)\n",
    "        func += np.hstack([np.zeros(pos),normalizer*coeff*np.ones(wl//2),normalizer*(-1)*coeff*np.ones(wl//2),np.zeros(len_seq -wl-pos)])"
   ]
  },
  {
   "cell_type": "code",
   "execution_count": 28,
   "metadata": {},
   "outputs": [
    {
     "data": {
      "text/plain": [
       "<matplotlib.collections.PathCollection at 0xb39424320>"
      ]
     },
     "execution_count": 28,
     "metadata": {},
     "output_type": "execute_result"
    },
    {
     "data": {
      "image/png": "[encoded data removed]",
      "text/plain": [
       "<Figure size 432x288 with 1 Axes>"
      ]
     },
     "metadata": {
      "needs_background": "light"
     },
     "output_type": "display_data"
    }
   ],
   "source": [
    "plt.scatter(inputs[9][:,0],inputs[9][:,1])"
   ]
  },
  {
   "cell_type": "code",
   "execution_count": null,
   "metadata": {},
   "outputs": [],
   "source": []
  }
 ],
 "metadata": {
  "kernelspec": {
   "display_name": "Python 3",
   "language": "python",
   "name": "python3"
  },
  "language_info": {
   "codemirror_mode": {
    "name": "ipython",
    "version": 3
   },
   "file_extension": ".py",
   "mimetype": "text/x-python",
   "name": "python",
   "nbconvert_exporter": "python",
   "pygments_lexer": "ipython3",
   "version": "3.6.8"
  }
 },
 "nbformat": 4,
 "nbformat_minor": 2
}
